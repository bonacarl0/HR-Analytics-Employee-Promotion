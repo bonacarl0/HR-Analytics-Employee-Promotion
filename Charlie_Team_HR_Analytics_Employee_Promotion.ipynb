{
  "nbformat": 4,
  "nbformat_minor": 0,
  "metadata": {
    "colab": {
      "name": "Charlie Team - HR Analytics: Employee Promotion.ipynb",
      "provenance": [],
      "collapsed_sections": []
    },
    "kernelspec": {
      "name": "python3",
      "display_name": "Python 3"
    },
    "language_info": {
      "name": "python"
    }
  },
  "cells": [
    {
      "cell_type": "code",
      "metadata": {
        "id": "871fa63d"
      },
      "source": [
        "import pandas as pd\n",
        "import numpy as np\n",
        "import matplotlib.pyplot as plt\n",
        "import seaborn as sns"
      ],
      "execution_count": null,
      "outputs": []
    },
    {
      "cell_type": "markdown",
      "metadata": {
        "id": "FEXkw8rucesL"
      },
      "source": [
        "# **Define Problem**"
      ]
    },
    {
      "cell_type": "markdown",
      "metadata": {
        "id": "BNI2o0qOcj9N"
      },
      "source": [
        "- Produce a predictive machine learning program that can predict whether a user is going to be promoted or not considering the features have by this Multinational Company, therefore it can ease up the HR Department to faster the determination time; an automation can also reduce human error in manual determination \n",
        "- Although this model is purposed to determine whether an employee is to be promoted or not, we cannot conclude the performance of this employee is good or bad generally\n",
        "- Machine Learning that is going to be used for this project is supervised learning, classification\n",
        "- Business wise, performance metrics is recall; we want to promote people that really deserve to be promoted, because it is rather a detrimental issue for the company not to promote the deserving ones, and to be more convincing, we would like to plot a cost loss scenario as to what this company would loss if they were to apply this model to the field.\n",
        "- The risk that is going to be faced by this MNC is that although the performance is acceptable, there always an external issue that can decrease this model performance in the long run, therefore, it is better to watch out for this 'external issue' such as the dynamics of the salary also can be a potential issue considering that a stagnant in a salary in a certain period can decrease one's performance in the company. \n"
      ]
    },
    {
      "cell_type": "markdown",
      "metadata": {
        "id": "rdCrvtE1i30u"
      },
      "source": [
        "### **Data Understanding**\n"
      ]
    },
    {
      "cell_type": "markdown",
      "metadata": {
        "id": "epq5fKt9jGd9"
      },
      "source": [
        "**Glossary**"
      ]
    },
    {
      "cell_type": "markdown",
      "metadata": {
        "id": "9USAtGBMjdvs"
      },
      "source": [
        "Features:\n",
        "\n",
        "- employee_id: Unique ID for employee\n",
        "- department: Department of employee\n",
        "- region: Region of employment (unordered)\n",
        "- education: Education Level\n",
        "- gender: Gender of Employee\n",
        "- recruitment_channel: Channel of recruitment for employee\n",
        "- no_of_trainings: no of other trainings completed in previous year on soft - skills, technical skills etc.\n",
        "- age: Age of Employee\n",
        "- previous_ year_ rating: Employee Rating for the previous year\n",
        "- length_of_service: Length of service in years\n",
        "- awards_won?: if awards won during previous year then 1 else 0\n",
        "- avg_training_score: Average score in current training evaluations\n",
        "- is_promoted: (Target) Recommended for promotion\n",
        "\n",
        "These are the columns of the dataset and the label is is_promoted. We are going to find any correlation between the two and ultimately going to build a model that is suitable for the project's objective."
      ]
    },
    {
      "cell_type": "markdown",
      "metadata": {
        "id": "4RxLhfoyjpMU"
      },
      "source": [
        "- Source of data : https://www.kaggle.com/arashnic/hr-ana\n",
        "- Modified by Möbius (2020)"
      ]
    },
    {
      "cell_type": "code",
      "metadata": {
        "colab": {
          "base_uri": "https://localhost:8080/",
          "height": 278
        },
        "id": "2eqNLVf4UaAD",
        "outputId": "674435b0-066c-4468-d92f-0033ea45e39b"
      },
      "source": [
        "df_emp_prom = pd.read_csv('train_emp_prom.csv')\n",
        "df_emp_prom.head()"
      ],
      "execution_count": null,
      "outputs": [
        {
          "output_type": "execute_result",
          "data": {
            "text/html": [
              "<div>\n",
              "<style scoped>\n",
              "    .dataframe tbody tr th:only-of-type {\n",
              "        vertical-align: middle;\n",
              "    }\n",
              "\n",
              "    .dataframe tbody tr th {\n",
              "        vertical-align: top;\n",
              "    }\n",
              "\n",
              "    .dataframe thead th {\n",
              "        text-align: right;\n",
              "    }\n",
              "</style>\n",
              "<table border=\"1\" class=\"dataframe\">\n",
              "  <thead>\n",
              "    <tr style=\"text-align: right;\">\n",
              "      <th></th>\n",
              "      <th>employee_id</th>\n",
              "      <th>department</th>\n",
              "      <th>region</th>\n",
              "      <th>education</th>\n",
              "      <th>gender</th>\n",
              "      <th>recruitment_channel</th>\n",
              "      <th>no_of_trainings</th>\n",
              "      <th>age</th>\n",
              "      <th>previous_year_rating</th>\n",
              "      <th>length_of_service</th>\n",
              "      <th>awards_won?</th>\n",
              "      <th>avg_training_score</th>\n",
              "      <th>is_promoted</th>\n",
              "    </tr>\n",
              "  </thead>\n",
              "  <tbody>\n",
              "    <tr>\n",
              "      <th>0</th>\n",
              "      <td>65438</td>\n",
              "      <td>Sales &amp; Marketing</td>\n",
              "      <td>region_7</td>\n",
              "      <td>Master's &amp; above</td>\n",
              "      <td>f</td>\n",
              "      <td>sourcing</td>\n",
              "      <td>1</td>\n",
              "      <td>35</td>\n",
              "      <td>5.0</td>\n",
              "      <td>8</td>\n",
              "      <td>0</td>\n",
              "      <td>49</td>\n",
              "      <td>0</td>\n",
              "    </tr>\n",
              "    <tr>\n",
              "      <th>1</th>\n",
              "      <td>65141</td>\n",
              "      <td>Operations</td>\n",
              "      <td>region_22</td>\n",
              "      <td>Bachelor's</td>\n",
              "      <td>m</td>\n",
              "      <td>other</td>\n",
              "      <td>1</td>\n",
              "      <td>30</td>\n",
              "      <td>5.0</td>\n",
              "      <td>4</td>\n",
              "      <td>0</td>\n",
              "      <td>60</td>\n",
              "      <td>0</td>\n",
              "    </tr>\n",
              "    <tr>\n",
              "      <th>2</th>\n",
              "      <td>7513</td>\n",
              "      <td>Sales &amp; Marketing</td>\n",
              "      <td>region_19</td>\n",
              "      <td>Bachelor's</td>\n",
              "      <td>m</td>\n",
              "      <td>sourcing</td>\n",
              "      <td>1</td>\n",
              "      <td>34</td>\n",
              "      <td>3.0</td>\n",
              "      <td>7</td>\n",
              "      <td>0</td>\n",
              "      <td>50</td>\n",
              "      <td>0</td>\n",
              "    </tr>\n",
              "    <tr>\n",
              "      <th>3</th>\n",
              "      <td>2542</td>\n",
              "      <td>Sales &amp; Marketing</td>\n",
              "      <td>region_23</td>\n",
              "      <td>Bachelor's</td>\n",
              "      <td>m</td>\n",
              "      <td>other</td>\n",
              "      <td>2</td>\n",
              "      <td>39</td>\n",
              "      <td>1.0</td>\n",
              "      <td>10</td>\n",
              "      <td>0</td>\n",
              "      <td>50</td>\n",
              "      <td>0</td>\n",
              "    </tr>\n",
              "    <tr>\n",
              "      <th>4</th>\n",
              "      <td>48945</td>\n",
              "      <td>Technology</td>\n",
              "      <td>region_26</td>\n",
              "      <td>Bachelor's</td>\n",
              "      <td>m</td>\n",
              "      <td>other</td>\n",
              "      <td>1</td>\n",
              "      <td>45</td>\n",
              "      <td>3.0</td>\n",
              "      <td>2</td>\n",
              "      <td>0</td>\n",
              "      <td>73</td>\n",
              "      <td>0</td>\n",
              "    </tr>\n",
              "  </tbody>\n",
              "</table>\n",
              "</div>"
            ],
            "text/plain": [
              "   employee_id         department  ... avg_training_score is_promoted\n",
              "0        65438  Sales & Marketing  ...                 49           0\n",
              "1        65141         Operations  ...                 60           0\n",
              "2         7513  Sales & Marketing  ...                 50           0\n",
              "3         2542  Sales & Marketing  ...                 50           0\n",
              "4        48945         Technology  ...                 73           0\n",
              "\n",
              "[5 rows x 13 columns]"
            ]
          },
          "metadata": {},
          "execution_count": 2
        }
      ]
    },
    {
      "cell_type": "code",
      "metadata": {
        "id": "GsI0be-ldGFy",
        "colab": {
          "base_uri": "https://localhost:8080/"
        },
        "outputId": "4fb89a05-eb94-4b6a-f2d9-96ecb00ae24d"
      },
      "source": [
        "df_emp_prom.info()"
      ],
      "execution_count": null,
      "outputs": [
        {
          "output_type": "stream",
          "name": "stdout",
          "text": [
            "<class 'pandas.core.frame.DataFrame'>\n",
            "RangeIndex: 54808 entries, 0 to 54807\n",
            "Data columns (total 13 columns):\n",
            " #   Column                Non-Null Count  Dtype  \n",
            "---  ------                --------------  -----  \n",
            " 0   employee_id           54808 non-null  int64  \n",
            " 1   department            54808 non-null  object \n",
            " 2   region                54808 non-null  object \n",
            " 3   education             52399 non-null  object \n",
            " 4   gender                54808 non-null  object \n",
            " 5   recruitment_channel   54808 non-null  object \n",
            " 6   no_of_trainings       54808 non-null  int64  \n",
            " 7   age                   54808 non-null  int64  \n",
            " 8   previous_year_rating  50684 non-null  float64\n",
            " 9   length_of_service     54808 non-null  int64  \n",
            " 10  awards_won?           54808 non-null  int64  \n",
            " 11  avg_training_score    54808 non-null  int64  \n",
            " 12  is_promoted           54808 non-null  int64  \n",
            "dtypes: float64(1), int64(7), object(5)\n",
            "memory usage: 5.4+ MB\n"
          ]
        }
      ]
    },
    {
      "cell_type": "code",
      "metadata": {
        "id": "5vSpZB-VesV9",
        "colab": {
          "base_uri": "https://localhost:8080/",
          "height": 432
        },
        "outputId": "48ffbba1-e4af-4c26-d70f-db2db60ea57e"
      },
      "source": [
        "df_emp_prom.describe(include='all')"
      ],
      "execution_count": null,
      "outputs": [
        {
          "output_type": "execute_result",
          "data": {
            "text/html": [
              "<div>\n",
              "<style scoped>\n",
              "    .dataframe tbody tr th:only-of-type {\n",
              "        vertical-align: middle;\n",
              "    }\n",
              "\n",
              "    .dataframe tbody tr th {\n",
              "        vertical-align: top;\n",
              "    }\n",
              "\n",
              "    .dataframe thead th {\n",
              "        text-align: right;\n",
              "    }\n",
              "</style>\n",
              "<table border=\"1\" class=\"dataframe\">\n",
              "  <thead>\n",
              "    <tr style=\"text-align: right;\">\n",
              "      <th></th>\n",
              "      <th>employee_id</th>\n",
              "      <th>department</th>\n",
              "      <th>region</th>\n",
              "      <th>education</th>\n",
              "      <th>gender</th>\n",
              "      <th>recruitment_channel</th>\n",
              "      <th>no_of_trainings</th>\n",
              "      <th>age</th>\n",
              "      <th>previous_year_rating</th>\n",
              "      <th>length_of_service</th>\n",
              "      <th>awards_won?</th>\n",
              "      <th>avg_training_score</th>\n",
              "      <th>is_promoted</th>\n",
              "    </tr>\n",
              "  </thead>\n",
              "  <tbody>\n",
              "    <tr>\n",
              "      <th>count</th>\n",
              "      <td>54808.000000</td>\n",
              "      <td>54808</td>\n",
              "      <td>54808</td>\n",
              "      <td>52399</td>\n",
              "      <td>54808</td>\n",
              "      <td>54808</td>\n",
              "      <td>54808.000000</td>\n",
              "      <td>54808.000000</td>\n",
              "      <td>50684.000000</td>\n",
              "      <td>54808.000000</td>\n",
              "      <td>54808.000000</td>\n",
              "      <td>54808.000000</td>\n",
              "      <td>54808.000000</td>\n",
              "    </tr>\n",
              "    <tr>\n",
              "      <th>unique</th>\n",
              "      <td>NaN</td>\n",
              "      <td>9</td>\n",
              "      <td>34</td>\n",
              "      <td>3</td>\n",
              "      <td>2</td>\n",
              "      <td>3</td>\n",
              "      <td>NaN</td>\n",
              "      <td>NaN</td>\n",
              "      <td>NaN</td>\n",
              "      <td>NaN</td>\n",
              "      <td>NaN</td>\n",
              "      <td>NaN</td>\n",
              "      <td>NaN</td>\n",
              "    </tr>\n",
              "    <tr>\n",
              "      <th>top</th>\n",
              "      <td>NaN</td>\n",
              "      <td>Sales &amp; Marketing</td>\n",
              "      <td>region_2</td>\n",
              "      <td>Bachelor's</td>\n",
              "      <td>m</td>\n",
              "      <td>other</td>\n",
              "      <td>NaN</td>\n",
              "      <td>NaN</td>\n",
              "      <td>NaN</td>\n",
              "      <td>NaN</td>\n",
              "      <td>NaN</td>\n",
              "      <td>NaN</td>\n",
              "      <td>NaN</td>\n",
              "    </tr>\n",
              "    <tr>\n",
              "      <th>freq</th>\n",
              "      <td>NaN</td>\n",
              "      <td>16840</td>\n",
              "      <td>12343</td>\n",
              "      <td>36669</td>\n",
              "      <td>38496</td>\n",
              "      <td>30446</td>\n",
              "      <td>NaN</td>\n",
              "      <td>NaN</td>\n",
              "      <td>NaN</td>\n",
              "      <td>NaN</td>\n",
              "      <td>NaN</td>\n",
              "      <td>NaN</td>\n",
              "      <td>NaN</td>\n",
              "    </tr>\n",
              "    <tr>\n",
              "      <th>mean</th>\n",
              "      <td>39195.830627</td>\n",
              "      <td>NaN</td>\n",
              "      <td>NaN</td>\n",
              "      <td>NaN</td>\n",
              "      <td>NaN</td>\n",
              "      <td>NaN</td>\n",
              "      <td>1.253011</td>\n",
              "      <td>34.803915</td>\n",
              "      <td>3.329256</td>\n",
              "      <td>5.865512</td>\n",
              "      <td>0.023172</td>\n",
              "      <td>63.386750</td>\n",
              "      <td>0.085170</td>\n",
              "    </tr>\n",
              "    <tr>\n",
              "      <th>std</th>\n",
              "      <td>22586.581449</td>\n",
              "      <td>NaN</td>\n",
              "      <td>NaN</td>\n",
              "      <td>NaN</td>\n",
              "      <td>NaN</td>\n",
              "      <td>NaN</td>\n",
              "      <td>0.609264</td>\n",
              "      <td>7.660169</td>\n",
              "      <td>1.259993</td>\n",
              "      <td>4.265094</td>\n",
              "      <td>0.150450</td>\n",
              "      <td>13.371559</td>\n",
              "      <td>0.279137</td>\n",
              "    </tr>\n",
              "    <tr>\n",
              "      <th>min</th>\n",
              "      <td>1.000000</td>\n",
              "      <td>NaN</td>\n",
              "      <td>NaN</td>\n",
              "      <td>NaN</td>\n",
              "      <td>NaN</td>\n",
              "      <td>NaN</td>\n",
              "      <td>1.000000</td>\n",
              "      <td>20.000000</td>\n",
              "      <td>1.000000</td>\n",
              "      <td>1.000000</td>\n",
              "      <td>0.000000</td>\n",
              "      <td>39.000000</td>\n",
              "      <td>0.000000</td>\n",
              "    </tr>\n",
              "    <tr>\n",
              "      <th>25%</th>\n",
              "      <td>19669.750000</td>\n",
              "      <td>NaN</td>\n",
              "      <td>NaN</td>\n",
              "      <td>NaN</td>\n",
              "      <td>NaN</td>\n",
              "      <td>NaN</td>\n",
              "      <td>1.000000</td>\n",
              "      <td>29.000000</td>\n",
              "      <td>3.000000</td>\n",
              "      <td>3.000000</td>\n",
              "      <td>0.000000</td>\n",
              "      <td>51.000000</td>\n",
              "      <td>0.000000</td>\n",
              "    </tr>\n",
              "    <tr>\n",
              "      <th>50%</th>\n",
              "      <td>39225.500000</td>\n",
              "      <td>NaN</td>\n",
              "      <td>NaN</td>\n",
              "      <td>NaN</td>\n",
              "      <td>NaN</td>\n",
              "      <td>NaN</td>\n",
              "      <td>1.000000</td>\n",
              "      <td>33.000000</td>\n",
              "      <td>3.000000</td>\n",
              "      <td>5.000000</td>\n",
              "      <td>0.000000</td>\n",
              "      <td>60.000000</td>\n",
              "      <td>0.000000</td>\n",
              "    </tr>\n",
              "    <tr>\n",
              "      <th>75%</th>\n",
              "      <td>58730.500000</td>\n",
              "      <td>NaN</td>\n",
              "      <td>NaN</td>\n",
              "      <td>NaN</td>\n",
              "      <td>NaN</td>\n",
              "      <td>NaN</td>\n",
              "      <td>1.000000</td>\n",
              "      <td>39.000000</td>\n",
              "      <td>4.000000</td>\n",
              "      <td>7.000000</td>\n",
              "      <td>0.000000</td>\n",
              "      <td>76.000000</td>\n",
              "      <td>0.000000</td>\n",
              "    </tr>\n",
              "    <tr>\n",
              "      <th>max</th>\n",
              "      <td>78298.000000</td>\n",
              "      <td>NaN</td>\n",
              "      <td>NaN</td>\n",
              "      <td>NaN</td>\n",
              "      <td>NaN</td>\n",
              "      <td>NaN</td>\n",
              "      <td>10.000000</td>\n",
              "      <td>60.000000</td>\n",
              "      <td>5.000000</td>\n",
              "      <td>37.000000</td>\n",
              "      <td>1.000000</td>\n",
              "      <td>99.000000</td>\n",
              "      <td>1.000000</td>\n",
              "    </tr>\n",
              "  </tbody>\n",
              "</table>\n",
              "</div>"
            ],
            "text/plain": [
              "         employee_id         department  ... avg_training_score   is_promoted\n",
              "count   54808.000000              54808  ...       54808.000000  54808.000000\n",
              "unique           NaN                  9  ...                NaN           NaN\n",
              "top              NaN  Sales & Marketing  ...                NaN           NaN\n",
              "freq             NaN              16840  ...                NaN           NaN\n",
              "mean    39195.830627                NaN  ...          63.386750      0.085170\n",
              "std     22586.581449                NaN  ...          13.371559      0.279137\n",
              "min         1.000000                NaN  ...          39.000000      0.000000\n",
              "25%     19669.750000                NaN  ...          51.000000      0.000000\n",
              "50%     39225.500000                NaN  ...          60.000000      0.000000\n",
              "75%     58730.500000                NaN  ...          76.000000      0.000000\n",
              "max     78298.000000                NaN  ...          99.000000      1.000000\n",
              "\n",
              "[11 rows x 13 columns]"
            ]
          },
          "metadata": {},
          "execution_count": 4
        }
      ]
    },
    {
      "cell_type": "markdown",
      "metadata": {
        "id": "YvUBw-Jjes6x"
      },
      "source": [
        "# **Exploratory Data Analysis**"
      ]
    },
    {
      "cell_type": "code",
      "metadata": {
        "id": "aLLllRBUf-_Y",
        "colab": {
          "base_uri": "https://localhost:8080/",
          "height": 279
        },
        "outputId": "8d0dd6b5-4362-4c4a-a9ec-39dd587fc581"
      },
      "source": [
        "df_emp_prom['is_promoted'].value_counts().plot(kind='bar')"
      ],
      "execution_count": null,
      "outputs": [
        {
          "output_type": "execute_result",
          "data": {
            "text/plain": [
              "<matplotlib.axes._subplots.AxesSubplot at 0x7feb8f6ca350>"
            ]
          },
          "metadata": {},
          "execution_count": 5
        },
        {
          "output_type": "display_data",
          "data": {
            "image/png": "[encoded data removed]",
            "text/plain": [
              "<Figure size 432x288 with 1 Axes>"
            ]
          },
          "metadata": {
            "needs_background": "light"
          }
        }
      ]
    },
    {
      "cell_type": "markdown",
      "metadata": {
        "id": "4voR0NjIoghE"
      },
      "source": [
        "From the plot above, it can be seen that the class labels are imbalanced"
      ]
    },
    {
      "cell_type": "code",
      "metadata": {
        "id": "LgAbDfPMhCD5",
        "colab": {
          "base_uri": "https://localhost:8080/",
          "height": 607
        },
        "outputId": "94f7f572-fcd8-4f10-da0b-c7b4fda6710b"
      },
      "source": [
        "df_emp_prom.hist(figsize=(12,10));"
      ],
      "execution_count": null,
      "outputs": [
        {
          "output_type": "display_data",
          "data": {
            "image/png": "[encoded data removed]",
            "text/plain": [
              "<Figure size 864x720 with 9 Axes>"
            ]
          },
          "metadata": {
            "needs_background": "light"
          }
        }
      ]
    },
    {
      "cell_type": "markdown",
      "metadata": {
        "id": "5xBJr5zdo3Tm"
      },
      "source": [
        "Overall it can be concluded that the data is not normally distributed"
      ]
    },
    {
      "cell_type": "code",
      "metadata": {
        "colab": {
          "base_uri": "https://localhost:8080/",
          "height": 509
        },
        "id": "jw8NMliBrlRp",
        "outputId": "0789d166-f84a-4c50-b50b-687b8206b63d"
      },
      "source": [
        "plt.figure(figsize = (24, 12))\n",
        "corr = df_emp_prom.corr()\n",
        "sns.heatmap(corr, annot=True, linewidths=1)\n",
        "plt.show()"
      ],
      "execution_count": null,
      "outputs": [
        {
          "output_type": "display_data",
          "data": {
            "image/png": "[encoded data removed]",
            "text/plain": [
              "<Figure size 1728x864 with 2 Axes>"
            ]
          },
          "metadata": {
            "needs_background": "light"
          }
        }
      ]
    },
    {
      "cell_type": "markdown",
      "metadata": {
        "id": "mxEQcB2NQ1ST"
      },
      "source": [
        "The correlation number between column with column or features with columns are generally low, also the numeric features are not all continous; some are discrete. Thus, doing another plotting method might better our overlook of the correlations between features and label."
      ]
    },
    {
      "cell_type": "code",
      "metadata": {
        "colab": {
          "base_uri": "https://localhost:8080/",
          "height": 606
        },
        "id": "fRiHmkDMnAvf",
        "outputId": "8ad2fc84-2024-4d2b-f19f-ea1f5993a6e4"
      },
      "source": [
        "fig, axes = plt.subplots(3, 2, figsize=(12,10))\n",
        "for ix, var in enumerate(['no_of_trainings', 'age', 'previous_year_rating',\n",
        "       'length_of_service','avg_training_score']):\n",
        "    sns.boxplot(y=var, x='is_promoted', data=df_emp_prom, ax=axes.flatten()[ix])\n",
        "\n",
        "axes[2][1].remove()"
      ],
      "execution_count": null,
      "outputs": [
        {
          "output_type": "display_data",
          "data": {
            "image/png": "[encoded data removed]",
            "text/plain": [
              "<Figure size 864x720 with 5 Axes>"
            ]
          },
          "metadata": {
            "needs_background": "light"
          }
        }
      ]
    },
    {
      "cell_type": "markdown",
      "metadata": {
        "id": "3U-1Hy7VpUUA"
      },
      "source": [
        "Columns such as **average_training_score** differs the label by their median, min, and max values, and **previous_year_rating** in the promoted label might have a higher rating, and the **age** of the not promoted employee have are older. The column **no_of_trainings** boxplot does not show the spread of the data, hence we might further look into the other plotting method."
      ]
    },
    {
      "cell_type": "code",
      "metadata": {
        "colab": {
          "base_uri": "https://localhost:8080/",
          "height": 1000
        },
        "id": "WRp-Ss1XopA6",
        "outputId": "9e10c8b5-6ffe-4637-8282-c6c6679d1385"
      },
      "source": [
        "# https://stackoverflow.com/questions/57453959/how-to-show-percentages-on-the-stacked-bar-chart-in-python-3-x\n",
        "ctg_cols = ['department', 'region', 'education', 'gender', 'recruitment_channel', \n",
        "            'no_of_trainings', 'previous_year_rating', 'awards_won?']\n",
        "\n",
        "fig, ax = plt.subplots(4,2, figsize=(15,30))\n",
        "for ix, col in enumerate(ctg_cols):\n",
        "    df_emp_prom.groupby(col)['is_promoted'].value_counts(normalize=True).unstack(level=1).sort_values(by=1, ascending=False).plot.bar(stacked=True, ax=ax.flatten()[ix], ylim=(0.5))"
      ],
      "execution_count": null,
      "outputs": [
        {
          "output_type": "display_data",
          "data": {
            "image/png": "[encoded data removed]",
            "text/plain": [
              "<Figure size 1080x2160 with 8 Axes>"
            ]
          },
          "metadata": {
            "needs_background": "light"
          }
        }
      ]
    },
    {
      "cell_type": "markdown",
      "metadata": {
        "id": "BaeHZ4K_P5-t"
      },
      "source": [
        "To get a closer look to the categorical columns, we try to plot the ratio between the promoted and not promoted between the categories in categorical or numerical discrete columns. In the **department** column, the there is a high ratio to be promoted in the technology department compared to other departments. Furthermore, **region** four in the region column also show a larger percentage to be promoted, followed by region 17, and 25, and the least is region 9. Perhaps, if the authors were given more information on the region it would bring a larger outlook on this feature. Thirdly, the **recruitment channel** shows that the employees that are recruited from a referred source are more likely to be promoted rather than sourcing and other source that is not clear enough. The ratio of employees that are promoted from the **number of trainings** data suggest that the more training the less the ratio of an employee to be promoted, as the highest ratio of number of training to be promoted is one. Moreover, the promoted ratio in the **previous year rating** column is higher in employees that have 5 rating, and decreasingly change as the number decrease. But, **education** column also shows that employees that have master's degree and above have a higher ratio to be promoted rather than the other categories. **Gender** column doesn't show any different between the ratio of a male and female employee getting a promotion or not. And lastly, the **awards won** shows that employee that has won an award last year no matter how many, has a higher ratio of getting a promotion in this MNC."
      ]
    },
    {
      "cell_type": "code",
      "metadata": {
        "colab": {
          "base_uri": "https://localhost:8080/",
          "height": 548
        },
        "id": "6faVJA8c1A_A",
        "outputId": "97620e87-b53a-45f9-bb77-d31402b85eb0"
      },
      "source": [
        "df_emp_prom[df_emp_prom['education'].isna()]"
      ],
      "execution_count": null,
      "outputs": [
        {
          "output_type": "execute_result",
          "data": {
            "text/html": [
              "<div>\n",
              "<style scoped>\n",
              "    .dataframe tbody tr th:only-of-type {\n",
              "        vertical-align: middle;\n",
              "    }\n",
              "\n",
              "    .dataframe tbody tr th {\n",
              "        vertical-align: top;\n",
              "    }\n",
              "\n",
              "    .dataframe thead th {\n",
              "        text-align: right;\n",
              "    }\n",
              "</style>\n",
              "<table border=\"1\" class=\"dataframe\">\n",
              "  <thead>\n",
              "    <tr style=\"text-align: right;\">\n",
              "      <th></th>\n",
              "      <th>employee_id</th>\n",
              "      <th>department</th>\n",
              "      <th>region</th>\n",
              "      <th>education</th>\n",
              "      <th>gender</th>\n",
              "      <th>recruitment_channel</th>\n",
              "      <th>no_of_trainings</th>\n",
              "      <th>age</th>\n",
              "      <th>previous_year_rating</th>\n",
              "      <th>length_of_service</th>\n",
              "      <th>awards_won?</th>\n",
              "      <th>avg_training_score</th>\n",
              "      <th>is_promoted</th>\n",
              "    </tr>\n",
              "  </thead>\n",
              "  <tbody>\n",
              "    <tr>\n",
              "      <th>10</th>\n",
              "      <td>29934</td>\n",
              "      <td>Technology</td>\n",
              "      <td>region_23</td>\n",
              "      <td>NaN</td>\n",
              "      <td>m</td>\n",
              "      <td>sourcing</td>\n",
              "      <td>1</td>\n",
              "      <td>30</td>\n",
              "      <td>NaN</td>\n",
              "      <td>1</td>\n",
              "      <td>0</td>\n",
              "      <td>77</td>\n",
              "      <td>0</td>\n",
              "    </tr>\n",
              "    <tr>\n",
              "      <th>21</th>\n",
              "      <td>33332</td>\n",
              "      <td>Operations</td>\n",
              "      <td>region_15</td>\n",
              "      <td>NaN</td>\n",
              "      <td>m</td>\n",
              "      <td>sourcing</td>\n",
              "      <td>1</td>\n",
              "      <td>41</td>\n",
              "      <td>4.0</td>\n",
              "      <td>11</td>\n",
              "      <td>0</td>\n",
              "      <td>57</td>\n",
              "      <td>0</td>\n",
              "    </tr>\n",
              "    <tr>\n",
              "      <th>32</th>\n",
              "      <td>35465</td>\n",
              "      <td>Sales &amp; Marketing</td>\n",
              "      <td>region_7</td>\n",
              "      <td>NaN</td>\n",
              "      <td>f</td>\n",
              "      <td>sourcing</td>\n",
              "      <td>1</td>\n",
              "      <td>24</td>\n",
              "      <td>1.0</td>\n",
              "      <td>2</td>\n",
              "      <td>0</td>\n",
              "      <td>48</td>\n",
              "      <td>0</td>\n",
              "    </tr>\n",
              "    <tr>\n",
              "      <th>43</th>\n",
              "      <td>17423</td>\n",
              "      <td>Sales &amp; Marketing</td>\n",
              "      <td>region_2</td>\n",
              "      <td>NaN</td>\n",
              "      <td>m</td>\n",
              "      <td>other</td>\n",
              "      <td>3</td>\n",
              "      <td>24</td>\n",
              "      <td>2.0</td>\n",
              "      <td>2</td>\n",
              "      <td>0</td>\n",
              "      <td>48</td>\n",
              "      <td>0</td>\n",
              "    </tr>\n",
              "    <tr>\n",
              "      <th>82</th>\n",
              "      <td>66013</td>\n",
              "      <td>Sales &amp; Marketing</td>\n",
              "      <td>region_2</td>\n",
              "      <td>NaN</td>\n",
              "      <td>m</td>\n",
              "      <td>sourcing</td>\n",
              "      <td>2</td>\n",
              "      <td>25</td>\n",
              "      <td>3.0</td>\n",
              "      <td>2</td>\n",
              "      <td>0</td>\n",
              "      <td>53</td>\n",
              "      <td>0</td>\n",
              "    </tr>\n",
              "    <tr>\n",
              "      <th>...</th>\n",
              "      <td>...</td>\n",
              "      <td>...</td>\n",
              "      <td>...</td>\n",
              "      <td>...</td>\n",
              "      <td>...</td>\n",
              "      <td>...</td>\n",
              "      <td>...</td>\n",
              "      <td>...</td>\n",
              "      <td>...</td>\n",
              "      <td>...</td>\n",
              "      <td>...</td>\n",
              "      <td>...</td>\n",
              "      <td>...</td>\n",
              "    </tr>\n",
              "    <tr>\n",
              "      <th>54692</th>\n",
              "      <td>14821</td>\n",
              "      <td>Sales &amp; Marketing</td>\n",
              "      <td>region_2</td>\n",
              "      <td>NaN</td>\n",
              "      <td>f</td>\n",
              "      <td>sourcing</td>\n",
              "      <td>1</td>\n",
              "      <td>35</td>\n",
              "      <td>3.0</td>\n",
              "      <td>7</td>\n",
              "      <td>0</td>\n",
              "      <td>53</td>\n",
              "      <td>0</td>\n",
              "    </tr>\n",
              "    <tr>\n",
              "      <th>54717</th>\n",
              "      <td>7684</td>\n",
              "      <td>Analytics</td>\n",
              "      <td>region_2</td>\n",
              "      <td>NaN</td>\n",
              "      <td>m</td>\n",
              "      <td>sourcing</td>\n",
              "      <td>1</td>\n",
              "      <td>32</td>\n",
              "      <td>3.0</td>\n",
              "      <td>4</td>\n",
              "      <td>0</td>\n",
              "      <td>86</td>\n",
              "      <td>0</td>\n",
              "    </tr>\n",
              "    <tr>\n",
              "      <th>54729</th>\n",
              "      <td>1797</td>\n",
              "      <td>HR</td>\n",
              "      <td>region_2</td>\n",
              "      <td>NaN</td>\n",
              "      <td>f</td>\n",
              "      <td>other</td>\n",
              "      <td>1</td>\n",
              "      <td>28</td>\n",
              "      <td>3.0</td>\n",
              "      <td>2</td>\n",
              "      <td>0</td>\n",
              "      <td>53</td>\n",
              "      <td>0</td>\n",
              "    </tr>\n",
              "    <tr>\n",
              "      <th>54742</th>\n",
              "      <td>38935</td>\n",
              "      <td>Sales &amp; Marketing</td>\n",
              "      <td>region_31</td>\n",
              "      <td>NaN</td>\n",
              "      <td>m</td>\n",
              "      <td>other</td>\n",
              "      <td>1</td>\n",
              "      <td>28</td>\n",
              "      <td>4.0</td>\n",
              "      <td>3</td>\n",
              "      <td>0</td>\n",
              "      <td>47</td>\n",
              "      <td>0</td>\n",
              "    </tr>\n",
              "    <tr>\n",
              "      <th>54806</th>\n",
              "      <td>13614</td>\n",
              "      <td>Sales &amp; Marketing</td>\n",
              "      <td>region_9</td>\n",
              "      <td>NaN</td>\n",
              "      <td>m</td>\n",
              "      <td>sourcing</td>\n",
              "      <td>1</td>\n",
              "      <td>29</td>\n",
              "      <td>1.0</td>\n",
              "      <td>2</td>\n",
              "      <td>0</td>\n",
              "      <td>45</td>\n",
              "      <td>0</td>\n",
              "    </tr>\n",
              "  </tbody>\n",
              "</table>\n",
              "<p>2409 rows × 13 columns</p>\n",
              "</div>"
            ],
            "text/plain": [
              "       employee_id         department  ... avg_training_score is_promoted\n",
              "10           29934         Technology  ...                 77           0\n",
              "21           33332         Operations  ...                 57           0\n",
              "32           35465  Sales & Marketing  ...                 48           0\n",
              "43           17423  Sales & Marketing  ...                 48           0\n",
              "82           66013  Sales & Marketing  ...                 53           0\n",
              "...            ...                ...  ...                ...         ...\n",
              "54692        14821  Sales & Marketing  ...                 53           0\n",
              "54717         7684          Analytics  ...                 86           0\n",
              "54729         1797                 HR  ...                 53           0\n",
              "54742        38935  Sales & Marketing  ...                 47           0\n",
              "54806        13614  Sales & Marketing  ...                 45           0\n",
              "\n",
              "[2409 rows x 13 columns]"
            ]
          },
          "metadata": {},
          "execution_count": 10
        }
      ]
    },
    {
      "cell_type": "markdown",
      "metadata": {
        "id": "PvXppIm0j6P2"
      },
      "source": [
        "The null values found in the education column do not have any relationship with other columns. Also, we don't know what impact it may bring to the model performance, thus, we decided to fill the null values in the column as 'not defined'."
      ]
    },
    {
      "cell_type": "code",
      "metadata": {
        "colab": {
          "base_uri": "https://localhost:8080/"
        },
        "id": "JM6UCfvp0DD9",
        "outputId": "33de4ec2-cb0f-466e-af8b-6f13c3b55576"
      },
      "source": [
        "df_emp_prom[df_emp_prom['previous_year_rating'].isna()][['previous_year_rating','length_of_service']]['length_of_service'].unique()"
      ],
      "execution_count": null,
      "outputs": [
        {
          "output_type": "execute_result",
          "data": {
            "text/plain": [
              "array([1])"
            ]
          },
          "metadata": {},
          "execution_count": 11
        }
      ]
    },
    {
      "cell_type": "markdown",
      "metadata": {
        "id": "PFoizw_30rl1"
      },
      "source": [
        "The null values found in the previous_year_rating column has only one year of employment in this company, making it clear that the employees that have null values in this column are new employees, thus we fill the null values in the column as 'new employee'"
      ]
    },
    {
      "cell_type": "code",
      "metadata": {
        "colab": {
          "base_uri": "https://localhost:8080/"
        },
        "id": "y4io5wVMqzxw",
        "outputId": "975bd872-bbb0-4a28-bf64-9ce264ddda88"
      },
      "source": [
        "df_emp_prom.duplicated().sum()"
      ],
      "execution_count": null,
      "outputs": [
        {
          "output_type": "execute_result",
          "data": {
            "text/plain": [
              "0"
            ]
          },
          "metadata": {},
          "execution_count": 3
        }
      ]
    },
    {
      "cell_type": "markdown",
      "metadata": {
        "id": "P9NGlP7hj99l"
      },
      "source": [
        "We also try to find if there is any duplicated values to hinder any duplication in the employee data"
      ]
    },
    {
      "cell_type": "markdown",
      "metadata": {
        "id": "m548Ph4TsDTC"
      },
      "source": [
        "From the above analysis, we will use the previous_year_rating, awards_won?, avg_training_score, no_of_trainings, department, education, age features"
      ]
    },
    {
      "cell_type": "markdown",
      "metadata": {
        "id": "a79Ogt7FhCxf"
      },
      "source": [
        "# **Data Preprocessing**"
      ]
    },
    {
      "cell_type": "markdown",
      "metadata": {
        "id": "BiD5skxY5hdN"
      },
      "source": [
        "The department column, as seen in the EDA has a significant ratio in the Technology category to be promoted in opposite of the rest, thus we would like to group them based on their relationship to technology and not related at all to make a more sense of the model."
      ]
    },
    {
      "cell_type": "code",
      "metadata": {
        "id": "RR72c-yLG59i"
      },
      "source": [
        "df_emp_prom['department'] = df_emp_prom['department'].apply(lambda x: x if x == 'Technology' else 'Non Technology')"
      ],
      "execution_count": null,
      "outputs": []
    },
    {
      "cell_type": "markdown",
      "metadata": {
        "id": "X2TJfF2SBw52"
      },
      "source": [
        "We then bin the age to get a more sense of the age range's impact to the model, and while we still want to get a wise distribution of the data, we then divide the range by the distance of two years."
      ]
    },
    {
      "cell_type": "code",
      "metadata": {
        "id": "00_Sq6TrmzDj"
      },
      "source": [
        "# https://stackoverflow.com/questions/45751390/pandas-how-to-use-pd-cut\n",
        "age_range = ['20-22', '23-25', '26-28', '29-31', '32-34', '35-37', '38-40', '41-43', '44-46', '47-49', \n",
        "             '50-52', '53-55', '56-58', '59-61']\n",
        "age_bins = [20, 23, 26, 29, 32, 35, 38, 41, 44, 47, 50, 53, 56, 59, 62]\n",
        "df_emp_prom['age_bin'] = pd.cut(df_emp_prom['age'], bins=age_bins, labels=age_range, right=False)"
      ],
      "execution_count": null,
      "outputs": []
    },
    {
      "cell_type": "markdown",
      "metadata": {
        "id": "Mv-c_FrkCILs"
      },
      "source": [
        "We also categorize the previous year rating into groups of above average, average, below average, and a new employee for the null values"
      ]
    },
    {
      "cell_type": "code",
      "metadata": {
        "id": "ar_xmNQVmzWU"
      },
      "source": [
        "df_emp_prom['rating_range'] = df_emp_prom['previous_year_rating'].apply(\n",
        "    lambda x: 'Above Average' if x == 5.0 or x == 4.0 else 'Average' if x == 3.0 else 'Below Average' if x == 2.0 or x == 1.0 else 'New Employee')"
      ],
      "execution_count": null,
      "outputs": []
    },
    {
      "cell_type": "markdown",
      "metadata": {
        "id": "IO9CZr1Dm_0N"
      },
      "source": [
        "First, we split the training and test from the dataset to preprocess the data, manually fill the null values as purposed before, onehot-encode the category columns, binary-encode the region column, scale the numeric column, and put it in the column transformer"
      ]
    },
    {
      "cell_type": "code",
      "metadata": {
        "id": "LwNI9Lhau-QW"
      },
      "source": [
        "from sklearn.model_selection import train_test_split\n",
        "from sklearn.compose import ColumnTransformer\n",
        "from sklearn.preprocessing import OneHotEncoder, StandardScaler\n",
        "from sklearn.pipeline import Pipeline\n",
        "from sklearn.base import BaseEstimator, TransformerMixin\n",
        "\n",
        "onehot_cols = ['department', 'education', 'rating_range', 'age_bin']\n",
        "num_cols = ['no_of_trainings','avg_training_score']\n",
        "donothing_col = ['awards_won?']\n",
        "\n",
        "X = df_emp_prom[onehot_cols + num_cols  + donothing_col]\n",
        "y = df_emp_prom['is_promoted']\n",
        "\n",
        "X_train, X_test, y_train, y_test = train_test_split(X, y, random_state=22, test_size=0.2, stratify=y)"
      ],
      "execution_count": null,
      "outputs": []
    },
    {
      "cell_type": "code",
      "metadata": {
        "id": "GgkgMynP3gtj"
      },
      "source": [
        "X_train['education'].fillna('not_defined', inplace=True)\n",
        "X_test['education'].fillna('not_defined', inplace=True)"
      ],
      "execution_count": null,
      "outputs": []
    },
    {
      "cell_type": "code",
      "metadata": {
        "id": "kQeg4Gxz3Fsw"
      },
      "source": [
        "class DoNothingTransformer(BaseEstimator, TransformerMixin):\n",
        "    def __init__(self):\n",
        "        return None\n",
        "        \n",
        "    def fit(self, X, y=None):\n",
        "        return self\n",
        "    \n",
        "    def transform(self, X):\n",
        "        return X.values\n",
        "    \n",
        "col_trf = ColumnTransformer([\n",
        "                             ('enc', OneHotEncoder(), onehot_cols),\n",
        "                             ('scal', StandardScaler(), num_cols),\n",
        "                             ('skip', DoNothingTransformer(), donothing_col)\n",
        "])\n",
        "\n",
        "col_trf_not_scaled = ColumnTransformer([\n",
        "                              ('enc', OneHotEncoder(), onehot_cols),\n",
        "                              ('notscaled', DoNothingTransformer(), num_cols),\n",
        "                              ('skip', DoNothingTransformer(), donothing_col)\n",
        "])"
      ],
      "execution_count": null,
      "outputs": []
    },
    {
      "cell_type": "markdown",
      "metadata": {
        "id": "vZSyKD0Rhil2"
      },
      "source": [
        "# **Model Training**"
      ]
    },
    {
      "cell_type": "markdown",
      "metadata": {
        "id": "7lrPQOuLBe_9"
      },
      "source": [
        "We choose five models to be compared for our projects; logistic regression for it's simplicity, decision tree for it's easiness to articulate, random forest & xgboost for boosting, svc for it's high accuracy and a decent interpretability"
      ]
    },
    {
      "cell_type": "code",
      "metadata": {
        "id": "cb_rADAUhnZn"
      },
      "source": [
        "from sklearn.linear_model import LogisticRegression\n",
        "from sklearn.tree import DecisionTreeClassifier\n",
        "from sklearn.ensemble import RandomForestClassifier\n",
        "from xgboost import XGBClassifier\n",
        "from sklearn.svm import SVC\n",
        "\n",
        "log_reg = LogisticRegression(max_iter=3000)\n",
        "dt = DecisionTreeClassifier()\n",
        "rf = RandomForestClassifier()\n",
        "xgb = XGBClassifier(eval_metric='logloss', use_label_encoder=True)\n",
        "\n",
        "log_reg_pipeline = Pipeline ([\n",
        "    ('col_transformer', col_trf),\n",
        "    ('log_reg', log_reg)\n",
        "])\n",
        "\n",
        "dt_pipeline = Pipeline ([\n",
        "    ('col_transformer', col_trf_not_scaled),\n",
        "    ('dt', dt)\n",
        "])\n",
        "\n",
        "rf_pipeline = Pipeline([\n",
        "    ('col_transformer', col_trf_not_scaled),\n",
        "    ('rf', rf) \n",
        "])\n",
        "\n",
        "xgb_pipeline = Pipeline([\n",
        "    ('col_transformer', col_trf),\n",
        "    ('xgb', xgb) \n",
        "])\n",
        "\n",
        "svm_pipeline = Pipeline([\n",
        "    ('col_trf', col_trf),\n",
        "    ('svm', SVC()) \n",
        "])"
      ],
      "execution_count": null,
      "outputs": []
    },
    {
      "cell_type": "markdown",
      "metadata": {
        "id": "0fHAz_y8iWkg"
      },
      "source": [
        "# **Model Evaluation**"
      ]
    },
    {
      "cell_type": "code",
      "metadata": {
        "colab": {
          "base_uri": "https://localhost:8080/",
          "height": 226
        },
        "id": "hVjF38tuW_WV",
        "outputId": "a4da91db-acc7-4379-89ef-f3ec3397b701"
      },
      "source": [
        "from sklearn.metrics import accuracy_score, precision_score, recall_score, f1_score\n",
        "from sklearn.model_selection import cross_validate\n",
        "\n",
        "df_bfr_smotenc = pd.DataFrame(columns=['model','train_accuracy','test_accuracy','train_precision','test_precision','train_recall','test_recall','train_f1','test_f1'])\n",
        "for pipe in ([log_reg_pipeline, dt_pipeline, xgb_pipeline, rf_pipeline, svm_pipeline]):\n",
        "    pipe.fit(X_train[onehot_cols+num_cols+donothing_col], y_train)\n",
        "    y_train_pred = pipe.predict(X_train[onehot_cols+num_cols+donothing_col])\n",
        "    y_test_pred = pipe.predict(X_test[onehot_cols+num_cols+donothing_col])\n",
        "    df_bfr_smotenc = df_bfr_smotenc.append({\n",
        "        'model':pipe.named_steps[list(pipe.named_steps.keys())[1]].__class__.__name__,\n",
        "        'train_accuracy':str(accuracy_score(y_train, y_train_pred)),\n",
        "        'test_accuracy':str(accuracy_score(y_test, y_test_pred)),\n",
        "        'train_precision':str(precision_score(y_train, y_train_pred)),\n",
        "        'test_precision':str(precision_score(y_test, y_test_pred)),\n",
        "        'train_recall':str(recall_score(y_train, y_train_pred)),\n",
        "        'test_recall':str(recall_score(y_test, y_test_pred)),\n",
        "        'train_f1':str(f1_score(y_train, y_train_pred)),\n",
        "        'test_f1':str(f1_score(y_test, y_test_pred))\n",
        "    }, ignore_index=True)\n",
        "    \n",
        "df_bfr_smotenc"
      ],
      "execution_count": null,
      "outputs": [
        {
          "output_type": "execute_result",
          "data": {
            "text/html": [
              "<div>\n",
              "<style scoped>\n",
              "    .dataframe tbody tr th:only-of-type {\n",
              "        vertical-align: middle;\n",
              "    }\n",
              "\n",
              "    .dataframe tbody tr th {\n",
              "        vertical-align: top;\n",
              "    }\n",
              "\n",
              "    .dataframe thead th {\n",
              "        text-align: right;\n",
              "    }\n",
              "</style>\n",
              "<table border=\"1\" class=\"dataframe\">\n",
              "  <thead>\n",
              "    <tr style=\"text-align: right;\">\n",
              "      <th></th>\n",
              "      <th>model</th>\n",
              "      <th>train_accuracy</th>\n",
              "      <th>test_accuracy</th>\n",
              "      <th>train_precision</th>\n",
              "      <th>test_precision</th>\n",
              "      <th>train_recall</th>\n",
              "      <th>test_recall</th>\n",
              "      <th>train_f1</th>\n",
              "      <th>test_f1</th>\n",
              "    </tr>\n",
              "  </thead>\n",
              "  <tbody>\n",
              "    <tr>\n",
              "      <th>0</th>\n",
              "      <td>LogisticRegression</td>\n",
              "      <td>0.9189891894357524</td>\n",
              "      <td>0.9181718664477285</td>\n",
              "      <td>0.7286432160804021</td>\n",
              "      <td>0.7032967032967034</td>\n",
              "      <td>0.07766470273165506</td>\n",
              "      <td>0.06852248394004283</td>\n",
              "      <td>0.1403678606001936</td>\n",
              "      <td>0.12487804878048783</td>\n",
              "    </tr>\n",
              "    <tr>\n",
              "      <th>1</th>\n",
              "      <td>DecisionTreeClassifier</td>\n",
              "      <td>0.937440131368882</td>\n",
              "      <td>0.916256157635468</td>\n",
              "      <td>0.9583718778908418</td>\n",
              "      <td>0.527972027972028</td>\n",
              "      <td>0.2774504552758436</td>\n",
              "      <td>0.16167023554603854</td>\n",
              "      <td>0.4303219106957425</td>\n",
              "      <td>0.24754098360655738</td>\n",
              "    </tr>\n",
              "    <tr>\n",
              "      <th>2</th>\n",
              "      <td>XGBClassifier</td>\n",
              "      <td>0.9257400903161064</td>\n",
              "      <td>0.9251049078635285</td>\n",
              "      <td>0.8494152046783626</td>\n",
              "      <td>0.8228571428571428</td>\n",
              "      <td>0.15559721478307445</td>\n",
              "      <td>0.15417558886509636</td>\n",
              "      <td>0.2630149388863739</td>\n",
              "      <td>0.25969341749323716</td>\n",
              "    </tr>\n",
              "    <tr>\n",
              "      <th>3</th>\n",
              "      <td>RandomForestClassifier</td>\n",
              "      <td>0.937440131368882</td>\n",
              "      <td>0.9166210545520891</td>\n",
              "      <td>0.9174389216512215</td>\n",
              "      <td>0.5331125827814569</td>\n",
              "      <td>0.29164434922335297</td>\n",
              "      <td>0.17237687366167023</td>\n",
              "      <td>0.4425929689087584</td>\n",
              "      <td>0.2605177993527508</td>\n",
              "    </tr>\n",
              "    <tr>\n",
              "      <th>4</th>\n",
              "      <td>SVC</td>\n",
              "      <td>0.921726041144004</td>\n",
              "      <td>0.9219120598430943</td>\n",
              "      <td>0.8629807692307693</td>\n",
              "      <td>0.90625</td>\n",
              "      <td>0.09614354579539368</td>\n",
              "      <td>0.09314775160599571</td>\n",
              "      <td>0.17301204819277108</td>\n",
              "      <td>0.16893203883495142</td>\n",
              "    </tr>\n",
              "  </tbody>\n",
              "</table>\n",
              "</div>"
            ],
            "text/plain": [
              "                    model  ...              test_f1\n",
              "0      LogisticRegression  ...  0.12487804878048783\n",
              "1  DecisionTreeClassifier  ...  0.24754098360655738\n",
              "2           XGBClassifier  ...  0.25969341749323716\n",
              "3  RandomForestClassifier  ...   0.2605177993527508\n",
              "4                     SVC  ...  0.16893203883495142\n",
              "\n",
              "[5 rows x 9 columns]"
            ]
          },
          "metadata": {},
          "execution_count": 12
        }
      ]
    },
    {
      "cell_type": "markdown",
      "metadata": {
        "id": "Vr0Cg5CJCD1J"
      },
      "source": [
        "Models such as decision tree, XGB, random forest, and SVM tend to be more overfitting the model's performance compared to the logistic regression model since it has a wider range between the training's performance, and the test's performance. We decided to further hyperparameter tune the logistic regression model."
      ]
    },
    {
      "cell_type": "markdown",
      "metadata": {
        "id": "ZHDK3sgYxjpy"
      },
      "source": [
        "# **Hyperparameter Tuning**"
      ]
    },
    {
      "cell_type": "code",
      "metadata": {
        "colab": {
          "base_uri": "https://localhost:8080/"
        },
        "id": "Fot5_2T2v7WK",
        "outputId": "c9f9ef55-3878-4963-bc89-e12912c0f810"
      },
      "source": [
        "# https://www.kaggle.com/eikedehling/exploring-class-imbalance-resampling-and-weights\n",
        "\n",
        "from sklearn.model_selection import GridSearchCV\n",
        "\n",
        "weights = np.linspace(0.05, 0.95, 21)\n",
        "\n",
        "param_grid = {\n",
        "    'log_reg__penalty':['l1', 'l2', 'none'],\n",
        "    'log_reg__fit_intercept':[True, False],\n",
        "    'log_reg__C':[0.01, 0.1, 1.0],\n",
        "    'log_reg__class_weight':[{0: x, 1: 1.0-x} for x in weights]\n",
        "}\n",
        "\n",
        "grid_search = GridSearchCV(estimator=log_reg_pipeline, param_grid=param_grid, cv=5, n_jobs=-1, scoring='f1')\n",
        "grid_search.fit(X_train, y_train)"
      ],
      "execution_count": null,
      "outputs": [
        {
          "output_type": "stream",
          "name": "stderr",
          "text": [
            "/usr/local/lib/python3.7/dist-packages/sklearn/model_selection/_validation.py:372: FitFailedWarning: \n",
            "630 fits failed out of a total of 1890.\n",
            "The score on these train-test partitions for these parameters will be set to nan.\n",
            "If these failures are not expected, you can try to debug them by setting error_score='raise'.\n",
            "\n",
            "Below are more details about the failures:\n",
            "--------------------------------------------------------------------------------\n",
            "630 fits failed with the following error:\n",
            "Traceback (most recent call last):\n",
            "  File \"/usr/local/lib/python3.7/dist-packages/sklearn/model_selection/_validation.py\", line 681, in _fit_and_score\n",
            "    estimator.fit(X_train, y_train, **fit_params)\n",
            "  File \"/usr/local/lib/python3.7/dist-packages/sklearn/pipeline.py\", line 394, in fit\n",
            "    self._final_estimator.fit(Xt, y, **fit_params_last_step)\n",
            "  File \"/usr/local/lib/python3.7/dist-packages/sklearn/linear_model/_logistic.py\", line 1461, in fit\n",
            "    solver = _check_solver(self.solver, self.penalty, self.dual)\n",
            "  File \"/usr/local/lib/python3.7/dist-packages/sklearn/linear_model/_logistic.py\", line 449, in _check_solver\n",
            "    % (solver, penalty)\n",
            "ValueError: Solver lbfgs supports only 'l2' or 'none' penalties, got l1 penalty.\n",
            "\n",
            "  warnings.warn(some_fits_failed_message, FitFailedWarning)\n",
            "/usr/local/lib/python3.7/dist-packages/sklearn/model_selection/_search.py:972: UserWarning: One or more of the test scores are non-finite: [       nan 0.1959509  0.20724202        nan 0.19677741 0.20723535\n",
            "        nan 0.26862205 0.26813216        nan 0.26279676 0.26811449\n",
            "        nan 0.2892153  0.2962301         nan 0.29043367 0.29625962\n",
            "        nan 0.27151022 0.28668726        nan 0.27283172 0.28668726\n",
            "        nan 0.23672746 0.27623595        nan 0.23956047 0.27652969\n",
            "        nan 0.18311024 0.24272123        nan 0.17347281 0.24272123\n",
            "        nan 0.12959535 0.21022175        nan 0.12607225 0.20982709\n",
            "        nan 0.09355382 0.18044562        nan 0.0873118  0.18044562\n",
            "        nan 0.07190541 0.1649512         nan 0.06805184 0.1649512\n",
            "        nan 0.0495169  0.15324006        nan 0.04343726 0.15324006\n",
            "        nan 0.03263619 0.14048765        nan 0.02117404 0.14048765\n",
            "        nan 0.01329579 0.12898297        nan 0.00586525 0.12898297\n",
            "        nan 0.00106952 0.11121732        nan 0.         0.11121732\n",
            "        nan 0.         0.0995471         nan 0.         0.0995471\n",
            "        nan 0.         0.08542246        nan 0.         0.08542246\n",
            "        nan 0.         0.06944726        nan 0.         0.06944726\n",
            "        nan 0.         0.04901961        nan 0.         0.04901961\n",
            "        nan 0.         0.02848804        nan 0.         0.02848804\n",
            "        nan 0.         0.00745399        nan 0.         0.00745399\n",
            "        nan 0.         0.                nan 0.         0.\n",
            "        nan 0.         0.                nan 0.         0.\n",
            "        nan 0.20571686 0.20724202        nan 0.20561807 0.20723535\n",
            "        nan 0.26930815 0.26813216        nan 0.26889041 0.26811449\n",
            "        nan 0.29526108 0.2962301         nan 0.29488016 0.29625962\n",
            "        nan 0.28635189 0.28668726        nan 0.28732223 0.28668726\n",
            "        nan 0.2713357  0.27623595        nan 0.27062694 0.27652969\n",
            "        nan 0.23687719 0.24272123        nan 0.23457497 0.24272123\n",
            "        nan 0.20212065 0.21022175        nan 0.2004059  0.20982709\n",
            "        nan 0.17083363 0.18044562        nan 0.16797441 0.18044562\n",
            "        nan 0.15028573 0.1649512         nan 0.15106139 0.1649512\n",
            "        nan 0.13679443 0.15324006        nan 0.13675439 0.15324006\n",
            "        nan 0.12241927 0.14048765        nan 0.12252826 0.14048765\n",
            "        nan 0.10580405 0.12898297        nan 0.10779113 0.12898297\n",
            "        nan 0.09396838 0.11121732        nan 0.09346782 0.11121732\n",
            "        nan 0.0801984  0.0995471         nan 0.07774321 0.0995471\n",
            "        nan 0.05703673 0.08542246        nan 0.05358013 0.08542246\n",
            "        nan 0.03623423 0.06944726        nan 0.03211339 0.06944726\n",
            "        nan 0.01697146 0.04901961        nan 0.01011141 0.04901961\n",
            "        nan 0.00320499 0.02848804        nan 0.         0.02848804\n",
            "        nan 0.         0.00745399        nan 0.         0.00745399\n",
            "        nan 0.         0.                nan 0.         0.\n",
            "        nan 0.         0.                nan 0.         0.\n",
            "        nan 0.20698922 0.20724202        nan 0.20694254 0.20723535\n",
            "        nan 0.26861521 0.26813216        nan 0.26871174 0.26811449\n",
            "        nan 0.29562827 0.2962301         nan 0.29586404 0.29625962\n",
            "        nan 0.28669555 0.28668726        nan 0.28732834 0.28668726\n",
            "        nan 0.27665763 0.27623595        nan 0.27739087 0.27652969\n",
            "        nan 0.24304861 0.24272123        nan 0.24237414 0.24272123\n",
            "        nan 0.20842158 0.21022175        nan 0.20865587 0.20982709\n",
            "        nan 0.17975066 0.18044562        nan 0.17975066 0.18044562\n",
            "        nan 0.16475944 0.1649512         nan 0.16393337 0.1649512\n",
            "        nan 0.15036142 0.15324006        nan 0.15039448 0.15324006\n",
            "        nan 0.14016362 0.14048765        nan 0.13972602 0.14048765\n",
            "        nan 0.12634073 0.12898297        nan 0.12634073 0.12898297\n",
            "        nan 0.10940189 0.11121732        nan 0.10890127 0.11121732\n",
            "        nan 0.09777233 0.0995471         nan 0.0972221  0.0995471\n",
            "        nan 0.08350566 0.08542246        nan 0.0830579  0.08542246\n",
            "        nan 0.06696895 0.06944726        nan 0.06653183 0.06944726\n",
            "        nan 0.04493927 0.04901961        nan 0.04135182 0.04901961\n",
            "        nan 0.02537047 0.02848804        nan 0.02171078 0.02848804\n",
            "        nan 0.0058667  0.00745399        nan 0.00533762 0.00745399\n",
            "        nan 0.         0.                nan 0.         0.\n",
            "        nan 0.         0.                nan 0.         0.        ]\n",
            "  category=UserWarning,\n",
            "/usr/local/lib/python3.7/dist-packages/sklearn/linear_model/_logistic.py:1484: UserWarning: Setting penalty='none' will ignore the C and l1_ratio parameters\n",
            "  \"Setting penalty='none' will ignore the C and l1_ratio parameters\"\n"
          ]
        },
        {
          "output_type": "execute_result",
          "data": {
            "text/plain": [
              "GridSearchCV(cv=5,\n",
              "             estimator=Pipeline(steps=[('col_transformer',\n",
              "                                        ColumnTransformer(transformers=[('enc',\n",
              "                                                                         OneHotEncoder(),\n",
              "                                                                         ['department',\n",
              "                                                                          'education',\n",
              "                                                                          'rating_range',\n",
              "                                                                          'age_bin']),\n",
              "                                                                        ('scal',\n",
              "                                                                         StandardScaler(),\n",
              "                                                                         ['no_of_trainings',\n",
              "                                                                          'avg_training_score']),\n",
              "                                                                        ('skip',\n",
              "                                                                         DoNothingTransformer(),\n",
              "                                                                         ['awards_won?'])])),\n",
              "                                       ('log_reg',\n",
              "                                        LogisticRegression(max_iter=3000))]),\n",
              "             n_jobs=-1,\n",
              "             par...\n",
              "                                                   {0: 0.5900000000000001,\n",
              "                                                    1: 0.4099999999999999},\n",
              "                                                   {0: 0.635, 1: 0.365},\n",
              "                                                   {0: 0.68,\n",
              "                                                    1: 0.31999999999999995},\n",
              "                                                   {0: 0.725, 1: 0.275},\n",
              "                                                   {0: 0.77,\n",
              "                                                    1: 0.22999999999999998},\n",
              "                                                   {0: 0.8150000000000001,\n",
              "                                                    1: 0.18499999999999994},\n",
              "                                                   {0: 0.86, 1: 0.14},\n",
              "                                                   {0: 0.905,\n",
              "                                                    1: 0.09499999999999997},\n",
              "                                                   {0: 0.95,\n",
              "                                                    1: 0.050000000000000044}],\n",
              "                         'log_reg__fit_intercept': [True, False],\n",
              "                         'log_reg__penalty': ['l1', 'l2', 'none']},\n",
              "             scoring='f1')"
            ]
          },
          "metadata": {},
          "execution_count": 50
        }
      ]
    },
    {
      "cell_type": "code",
      "metadata": {
        "id": "G0W2NyIOrb3q",
        "colab": {
          "base_uri": "https://localhost:8080/"
        },
        "outputId": "f3e15752-971f-4bad-ddbb-98dd21d6ac36"
      },
      "source": [
        "#retrain the best tuned model\n",
        "log_reg_best = grid_search.best_estimator_\n",
        "log_reg_best.fit(X_train, y_train)"
      ],
      "execution_count": null,
      "outputs": [
        {
          "output_type": "stream",
          "name": "stderr",
          "text": [
            "/usr/local/lib/python3.7/dist-packages/sklearn/linear_model/_logistic.py:1484: UserWarning: Setting penalty='none' will ignore the C and l1_ratio parameters\n",
            "  \"Setting penalty='none' will ignore the C and l1_ratio parameters\"\n"
          ]
        },
        {
          "output_type": "execute_result",
          "data": {
            "text/plain": [
              "Pipeline(steps=[('col_transformer',\n",
              "                 ColumnTransformer(transformers=[('enc', OneHotEncoder(),\n",
              "                                                  ['department', 'education',\n",
              "                                                   'rating_range', 'age_bin']),\n",
              "                                                 ('scal', StandardScaler(),\n",
              "                                                  ['no_of_trainings',\n",
              "                                                   'avg_training_score']),\n",
              "                                                 ('skip',\n",
              "                                                  DoNothingTransformer(),\n",
              "                                                  ['awards_won?'])])),\n",
              "                ('log_reg',\n",
              "                 LogisticRegression(C=0.01, class_weight={0: 0.14, 1: 0.86},\n",
              "                                    fit_intercept=False, max_iter=3000,\n",
              "                                    penalty='none'))])"
            ]
          },
          "metadata": {},
          "execution_count": 51
        }
      ]
    },
    {
      "cell_type": "code",
      "metadata": {
        "colab": {
          "base_uri": "https://localhost:8080/"
        },
        "id": "C9BG_rlNxG-O",
        "outputId": "1dadfd80-9bd6-41ab-df6a-3a0f02a57847"
      },
      "source": [
        "# evaluate after tuning\n",
        "y_train_pred = log_reg_best.predict(X_train)\n",
        "print('Training')\n",
        "print('Accuracy: ' + str(accuracy_score(y_train, y_train_pred)))\n",
        "print('Precision: ' + str(precision_score(y_train, y_train_pred)))\n",
        "print('Recall: ' + str(recall_score(y_train, y_train_pred)))\n",
        "print('F1-score: ' + str(f1_score(y_train, y_train_pred)))\n",
        "print('---------')\n",
        "y_test_pred = log_reg_best.predict(X_test)\n",
        "print('Test')\n",
        "print('Accuracy: ' + str(accuracy_score(y_test, y_test_pred)))\n",
        "print('Precision: ' + str(precision_score(y_test, y_test_pred)))\n",
        "print('Recall: ' + str(recall_score(y_test, y_test_pred)))\n",
        "print('F1-score: ' + str(f1_score(y_test, y_test_pred)))"
      ],
      "execution_count": null,
      "outputs": [
        {
          "output_type": "stream",
          "name": "stdout",
          "text": [
            "Training\n",
            "Accuracy: 0.8338046800164212\n",
            "Precision: 0.23337835809695331\n",
            "Recall: 0.4164434922335297\n",
            "F1-score: 0.299124747523324\n",
            "---------\n",
            "Test\n",
            "Accuracy: 0.8358876117496807\n",
            "Precision: 0.23318938926588526\n",
            "Recall: 0.40471092077087795\n",
            "F1-score: 0.2958904109589041\n"
          ]
        }
      ]
    },
    {
      "cell_type": "markdown",
      "metadata": {
        "id": "L2LmwHNsB1sS"
      },
      "source": [
        "After having hyperparameter tune does not enhance the model performance, we decided the class imbalance has a contribution for that, so we would like to try random sampling the training dataset"
      ]
    },
    {
      "cell_type": "code",
      "metadata": {
        "colab": {
          "base_uri": "https://localhost:8080/",
          "height": 351
        },
        "id": "eBozWtCOD8t1",
        "outputId": "0c6d44eb-fe85-4e05-a3bb-ea7302b44d0a"
      },
      "source": [
        "from sklearn.metrics import plot_confusion_matrix\n",
        "plot_confusion_matrix(log_reg_best, X_test, y_test)"
      ],
      "execution_count": null,
      "outputs": [
        {
          "output_type": "stream",
          "name": "stderr",
          "text": [
            "/usr/local/lib/python3.7/dist-packages/sklearn/utils/deprecation.py:87: FutureWarning: Function plot_confusion_matrix is deprecated; Function `plot_confusion_matrix` is deprecated in 1.0 and will be removed in 1.2. Use one of the class methods: ConfusionMatrixDisplay.from_predictions or ConfusionMatrixDisplay.from_estimator.\n",
            "  warnings.warn(msg, category=FutureWarning)\n"
          ]
        },
        {
          "output_type": "execute_result",
          "data": {
            "text/plain": [
              "<sklearn.metrics._plot.confusion_matrix.ConfusionMatrixDisplay at 0x7feb7174c810>"
            ]
          },
          "metadata": {},
          "execution_count": 53
        },
        {
          "output_type": "display_data",
          "data": {
            "image/png": "[encoded data removed]",
            "text/plain": [
              "<Figure size 432x288 with 2 Axes>"
            ]
          },
          "metadata": {
            "needs_background": "light"
          }
        }
      ]
    },
    {
      "cell_type": "markdown",
      "metadata": {
        "id": "yBpjEgu5zF6W"
      },
      "source": [
        "# **Oversampling using SMOTENC**"
      ]
    },
    {
      "cell_type": "code",
      "metadata": {
        "id": "5CtExb21y-xL"
      },
      "source": [
        "from imblearn.over_sampling import SMOTENC\n",
        "\n",
        "smotenc = SMOTENC(categorical_features=[0,1,2,3,6], random_state=22, sampling_strategy=4/5)\n",
        "\n",
        "X_train_smotenc, y_train_smotenc = smotenc.fit_resample(X_train, y_train)"
      ],
      "execution_count": null,
      "outputs": []
    },
    {
      "cell_type": "code",
      "metadata": {
        "colab": {
          "base_uri": "https://localhost:8080/",
          "height": 226
        },
        "id": "fI7J45DmYRiA",
        "outputId": "364066cc-44b1-4c24-be60-9bddbe74f6c5"
      },
      "source": [
        "df_aftr_smotenc = pd.DataFrame(columns=['model','train_accuracy','test_accuracy','train_precision','test_precision','train_recall','test_recall','train_f1','test_f1'])\n",
        "for pipe in ([log_reg_pipeline, dt_pipeline, xgb_pipeline, rf_pipeline, svm_pipeline]):\n",
        "    pipe.fit(X_train_smotenc, y_train_smotenc)\n",
        "    y_train_pred = pipe.predict(X_train_smotenc)\n",
        "    y_test_pred = pipe.predict(X_test[onehot_cols+num_cols+donothing_col])\n",
        "    df_aftr_smotenc = df_aftr_smotenc.append({\n",
        "        'model':pipe.named_steps[list(pipe.named_steps.keys())[1]].__class__.__name__,\n",
        "        'train_accuracy':str(accuracy_score(y_train_smotenc, y_train_pred)),\n",
        "        'test_accuracy':str(accuracy_score(y_test, y_test_pred)),\n",
        "        'train_precision':str(precision_score(y_train_smotenc, y_train_pred)),\n",
        "        'test_precision':str(precision_score(y_test, y_test_pred)),\n",
        "        'train_recall':str(recall_score(y_train_smotenc, y_train_pred)),\n",
        "        'test_recall':str(recall_score(y_test, y_test_pred)),\n",
        "        'train_f1':str(f1_score(y_train_smotenc, y_train_pred)),\n",
        "        'test_f1':str(f1_score(y_test, y_test_pred))\n",
        "    }, ignore_index=True)\n",
        "    \n",
        "df_aftr_smotenc"
      ],
      "execution_count": null,
      "outputs": [
        {
          "output_type": "execute_result",
          "data": {
            "text/html": [
              "<div>\n",
              "<style scoped>\n",
              "    .dataframe tbody tr th:only-of-type {\n",
              "        vertical-align: middle;\n",
              "    }\n",
              "\n",
              "    .dataframe tbody tr th {\n",
              "        vertical-align: top;\n",
              "    }\n",
              "\n",
              "    .dataframe thead th {\n",
              "        text-align: right;\n",
              "    }\n",
              "</style>\n",
              "<table border=\"1\" class=\"dataframe\">\n",
              "  <thead>\n",
              "    <tr style=\"text-align: right;\">\n",
              "      <th></th>\n",
              "      <th>model</th>\n",
              "      <th>train_accuracy</th>\n",
              "      <th>test_accuracy</th>\n",
              "      <th>train_precision</th>\n",
              "      <th>test_precision</th>\n",
              "      <th>train_recall</th>\n",
              "      <th>test_recall</th>\n",
              "      <th>train_f1</th>\n",
              "      <th>test_f1</th>\n",
              "    </tr>\n",
              "  </thead>\n",
              "  <tbody>\n",
              "    <tr>\n",
              "      <th>0</th>\n",
              "      <td>LogisticRegression</td>\n",
              "      <td>0.6790903173086246</td>\n",
              "      <td>0.735632183908046</td>\n",
              "      <td>0.6573737516321417</td>\n",
              "      <td>0.1684672518568535</td>\n",
              "      <td>0.5805104552962074</td>\n",
              "      <td>0.5342612419700214</td>\n",
              "      <td>0.6165557872439016</td>\n",
              "      <td>0.25616016427104726</td>\n",
              "    </tr>\n",
              "    <tr>\n",
              "      <th>1</th>\n",
              "      <td>DecisionTreeClassifier</td>\n",
              "      <td>0.7783133197601141</td>\n",
              "      <td>0.7333515781791644</td>\n",
              "      <td>0.7474840734927523</td>\n",
              "      <td>0.14771519659936239</td>\n",
              "      <td>0.7568948860980398</td>\n",
              "      <td>0.4464668094218415</td>\n",
              "      <td>0.752160044594469</td>\n",
              "      <td>0.22198562682991746</td>\n",
              "    </tr>\n",
              "    <tr>\n",
              "      <th>2</th>\n",
              "      <td>XGBClassifier</td>\n",
              "      <td>0.6926496862924336</td>\n",
              "      <td>0.7995803685458858</td>\n",
              "      <td>0.7101307744565217</td>\n",
              "      <td>0.20586865393572426</td>\n",
              "      <td>0.5212066440213157</td>\n",
              "      <td>0.4732334047109208</td>\n",
              "      <td>0.6011753922467246</td>\n",
              "      <td>0.2869198312236287</td>\n",
              "    </tr>\n",
              "    <tr>\n",
              "      <th>3</th>\n",
              "      <td>RandomForestClassifier</td>\n",
              "      <td>0.7782440686417086</td>\n",
              "      <td>0.7319832147418355</td>\n",
              "      <td>0.7423721659430776</td>\n",
              "      <td>0.1506276150627615</td>\n",
              "      <td>0.7673346006419646</td>\n",
              "      <td>0.4625267665952891</td>\n",
              "      <td>0.7546470110486232</td>\n",
              "      <td>0.22724881641241454</td>\n",
              "    </tr>\n",
              "    <tr>\n",
              "      <th>4</th>\n",
              "      <td>SVC</td>\n",
              "      <td>0.70057201423803</td>\n",
              "      <td>0.7750410509031199</td>\n",
              "      <td>0.6987924356345409</td>\n",
              "      <td>0.1863226863226863</td>\n",
              "      <td>0.5734675433949329</td>\n",
              "      <td>0.487152034261242</td>\n",
              "      <td>0.6299573797990518</td>\n",
              "      <td>0.26954976303317535</td>\n",
              "    </tr>\n",
              "  </tbody>\n",
              "</table>\n",
              "</div>"
            ],
            "text/plain": [
              "                    model  ...              test_f1\n",
              "0      LogisticRegression  ...  0.25616016427104726\n",
              "1  DecisionTreeClassifier  ...  0.22198562682991746\n",
              "2           XGBClassifier  ...   0.2869198312236287\n",
              "3  RandomForestClassifier  ...  0.22724881641241454\n",
              "4                     SVC  ...  0.26954976303317535\n",
              "\n",
              "[5 rows x 9 columns]"
            ]
          },
          "metadata": {},
          "execution_count": 15
        }
      ]
    },
    {
      "cell_type": "code",
      "metadata": {
        "colab": {
          "base_uri": "https://localhost:8080/",
          "height": 621
        },
        "id": "UEIT4PzyUXhX",
        "outputId": "2e9c2e95-496c-4dc7-9025-8353651b8cfc"
      },
      "source": [
        "\n",
        "sns.scatterplot(x='model',y='test_recall',data=df_aftr_smotenc)\n",
        "plt.xticks(30)"
      ],
      "execution_count": null,
      "outputs": [
        {
          "output_type": "error",
          "ename": "TypeError",
          "evalue": "ignored",
          "traceback": [
            "\u001b[0;31m---------------------------------------------------------------------------\u001b[0m",
            "\u001b[0;31mTypeError\u001b[0m                                 Traceback (most recent call last)",
            "\u001b[0;32m<ipython-input-28-999b7e23694d>\u001b[0m in \u001b[0;36m<module>\u001b[0;34m()\u001b[0m\n\u001b[1;32m      1\u001b[0m \u001b[0;34m\u001b[0m\u001b[0m\n\u001b[1;32m      2\u001b[0m \u001b[0msns\u001b[0m\u001b[0;34m.\u001b[0m\u001b[0mscatterplot\u001b[0m\u001b[0;34m(\u001b[0m\u001b[0mx\u001b[0m\u001b[0;34m=\u001b[0m\u001b[0;34m'model'\u001b[0m\u001b[0;34m,\u001b[0m\u001b[0my\u001b[0m\u001b[0;34m=\u001b[0m\u001b[0;34m'test_recall'\u001b[0m\u001b[0;34m,\u001b[0m\u001b[0mdata\u001b[0m\u001b[0;34m=\u001b[0m\u001b[0mdf_aftr_smotenc\u001b[0m\u001b[0;34m)\u001b[0m\u001b[0;34m\u001b[0m\u001b[0;34m\u001b[0m\u001b[0m\n\u001b[0;32m----> 3\u001b[0;31m \u001b[0mplt\u001b[0m\u001b[0;34m.\u001b[0m\u001b[0mxticks\u001b[0m\u001b[0;34m(\u001b[0m\u001b[0;36m30\u001b[0m\u001b[0;34m)\u001b[0m\u001b[0;34m\u001b[0m\u001b[0;34m\u001b[0m\u001b[0m\n\u001b[0m",
            "\u001b[0;32m/usr/local/lib/python3.7/dist-packages/matplotlib/pyplot.py\u001b[0m in \u001b[0;36mxticks\u001b[0;34m(ticks, labels, **kwargs)\u001b[0m\n\u001b[1;32m   1481\u001b[0m         \u001b[0mlabels\u001b[0m \u001b[0;34m=\u001b[0m \u001b[0max\u001b[0m\u001b[0;34m.\u001b[0m\u001b[0mget_xticklabels\u001b[0m\u001b[0;34m(\u001b[0m\u001b[0;34m)\u001b[0m\u001b[0;34m\u001b[0m\u001b[0;34m\u001b[0m\u001b[0m\n\u001b[1;32m   1482\u001b[0m     \u001b[0;32melif\u001b[0m \u001b[0mlabels\u001b[0m \u001b[0;32mis\u001b[0m \u001b[0;32mNone\u001b[0m\u001b[0;34m:\u001b[0m\u001b[0;34m\u001b[0m\u001b[0;34m\u001b[0m\u001b[0m\n\u001b[0;32m-> 1483\u001b[0;31m         \u001b[0mlocs\u001b[0m \u001b[0;34m=\u001b[0m \u001b[0max\u001b[0m\u001b[0;34m.\u001b[0m\u001b[0mset_xticks\u001b[0m\u001b[0;34m(\u001b[0m\u001b[0mticks\u001b[0m\u001b[0;34m)\u001b[0m\u001b[0;34m\u001b[0m\u001b[0;34m\u001b[0m\u001b[0m\n\u001b[0m\u001b[1;32m   1484\u001b[0m         \u001b[0mlabels\u001b[0m \u001b[0;34m=\u001b[0m \u001b[0max\u001b[0m\u001b[0;34m.\u001b[0m\u001b[0mget_xticklabels\u001b[0m\u001b[0;34m(\u001b[0m\u001b[0;34m)\u001b[0m\u001b[0;34m\u001b[0m\u001b[0;34m\u001b[0m\u001b[0m\n\u001b[1;32m   1485\u001b[0m     \u001b[0;32melse\u001b[0m\u001b[0;34m:\u001b[0m\u001b[0;34m\u001b[0m\u001b[0;34m\u001b[0m\u001b[0m\n",
            "\u001b[0;32m/usr/local/lib/python3.7/dist-packages/matplotlib/cbook/deprecation.py\u001b[0m in \u001b[0;36mwrapper\u001b[0;34m(*args, **kwargs)\u001b[0m\n\u001b[1;32m    398\u001b[0m                 \u001b[0;34m\"parameter will become keyword-only %(removal)s.\"\u001b[0m\u001b[0;34m,\u001b[0m\u001b[0;34m\u001b[0m\u001b[0;34m\u001b[0m\u001b[0m\n\u001b[1;32m    399\u001b[0m                 name=name, obj_type=f\"parameter of {func.__name__}()\")\n\u001b[0;32m--> 400\u001b[0;31m         \u001b[0;32mreturn\u001b[0m \u001b[0mfunc\u001b[0m\u001b[0;34m(\u001b[0m\u001b[0;34m*\u001b[0m\u001b[0margs\u001b[0m\u001b[0;34m,\u001b[0m \u001b[0;34m**\u001b[0m\u001b[0mkwargs\u001b[0m\u001b[0;34m)\u001b[0m\u001b[0;34m\u001b[0m\u001b[0;34m\u001b[0m\u001b[0m\n\u001b[0m\u001b[1;32m    401\u001b[0m \u001b[0;34m\u001b[0m\u001b[0m\n\u001b[1;32m    402\u001b[0m     \u001b[0;32mreturn\u001b[0m \u001b[0mwrapper\u001b[0m\u001b[0;34m\u001b[0m\u001b[0;34m\u001b[0m\u001b[0m\n",
            "\u001b[0;32m/usr/local/lib/python3.7/dist-packages/matplotlib/axes/_base.py\u001b[0m in \u001b[0;36mset_xticks\u001b[0;34m(self, ticks, minor)\u001b[0m\n\u001b[1;32m   3307\u001b[0m             \u001b[0mDefault\u001b[0m \u001b[0;32mis\u001b[0m\u001b[0;31m \u001b[0m\u001b[0;31m`\u001b[0m\u001b[0;31m`\u001b[0m\u001b[0;32mFalse\u001b[0m\u001b[0;31m`\u001b[0m\u001b[0;31m`\u001b[0m\u001b[0;34m.\u001b[0m\u001b[0;34m\u001b[0m\u001b[0;34m\u001b[0m\u001b[0m\n\u001b[1;32m   3308\u001b[0m         \"\"\"\n\u001b[0;32m-> 3309\u001b[0;31m         \u001b[0mret\u001b[0m \u001b[0;34m=\u001b[0m \u001b[0mself\u001b[0m\u001b[0;34m.\u001b[0m\u001b[0mxaxis\u001b[0m\u001b[0;34m.\u001b[0m\u001b[0mset_ticks\u001b[0m\u001b[0;34m(\u001b[0m\u001b[0mticks\u001b[0m\u001b[0;34m,\u001b[0m \u001b[0mminor\u001b[0m\u001b[0;34m=\u001b[0m\u001b[0mminor\u001b[0m\u001b[0;34m)\u001b[0m\u001b[0;34m\u001b[0m\u001b[0;34m\u001b[0m\u001b[0m\n\u001b[0m\u001b[1;32m   3310\u001b[0m         \u001b[0mself\u001b[0m\u001b[0;34m.\u001b[0m\u001b[0mstale\u001b[0m \u001b[0;34m=\u001b[0m \u001b[0;32mTrue\u001b[0m\u001b[0;34m\u001b[0m\u001b[0;34m\u001b[0m\u001b[0m\n\u001b[1;32m   3311\u001b[0m         \u001b[0;32mreturn\u001b[0m \u001b[0mret\u001b[0m\u001b[0;34m\u001b[0m\u001b[0;34m\u001b[0m\u001b[0m\n",
            "\u001b[0;32m/usr/local/lib/python3.7/dist-packages/matplotlib/cbook/deprecation.py\u001b[0m in \u001b[0;36mwrapper\u001b[0;34m(*args, **kwargs)\u001b[0m\n\u001b[1;32m    398\u001b[0m                 \u001b[0;34m\"parameter will become keyword-only %(removal)s.\"\u001b[0m\u001b[0;34m,\u001b[0m\u001b[0;34m\u001b[0m\u001b[0;34m\u001b[0m\u001b[0m\n\u001b[1;32m    399\u001b[0m                 name=name, obj_type=f\"parameter of {func.__name__}()\")\n\u001b[0;32m--> 400\u001b[0;31m         \u001b[0;32mreturn\u001b[0m \u001b[0mfunc\u001b[0m\u001b[0;34m(\u001b[0m\u001b[0;34m*\u001b[0m\u001b[0margs\u001b[0m\u001b[0;34m,\u001b[0m \u001b[0;34m**\u001b[0m\u001b[0mkwargs\u001b[0m\u001b[0;34m)\u001b[0m\u001b[0;34m\u001b[0m\u001b[0;34m\u001b[0m\u001b[0m\n\u001b[0m\u001b[1;32m    401\u001b[0m \u001b[0;34m\u001b[0m\u001b[0m\n\u001b[1;32m    402\u001b[0m     \u001b[0;32mreturn\u001b[0m \u001b[0mwrapper\u001b[0m\u001b[0;34m\u001b[0m\u001b[0;34m\u001b[0m\u001b[0m\n",
            "\u001b[0;32m/usr/local/lib/python3.7/dist-packages/matplotlib/axis.py\u001b[0m in \u001b[0;36mset_ticks\u001b[0;34m(self, ticks, minor)\u001b[0m\n\u001b[1;32m   1760\u001b[0m         \u001b[0;31m# XXX if the user changes units, the information will be lost here\u001b[0m\u001b[0;34m\u001b[0m\u001b[0;34m\u001b[0m\u001b[0;34m\u001b[0m\u001b[0m\n\u001b[1;32m   1761\u001b[0m         \u001b[0mticks\u001b[0m \u001b[0;34m=\u001b[0m \u001b[0mself\u001b[0m\u001b[0;34m.\u001b[0m\u001b[0mconvert_units\u001b[0m\u001b[0;34m(\u001b[0m\u001b[0mticks\u001b[0m\u001b[0;34m)\u001b[0m\u001b[0;34m\u001b[0m\u001b[0;34m\u001b[0m\u001b[0m\n\u001b[0;32m-> 1762\u001b[0;31m         \u001b[0;32mif\u001b[0m \u001b[0mlen\u001b[0m\u001b[0;34m(\u001b[0m\u001b[0mticks\u001b[0m\u001b[0;34m)\u001b[0m \u001b[0;34m>\u001b[0m \u001b[0;36m1\u001b[0m\u001b[0;34m:\u001b[0m\u001b[0;34m\u001b[0m\u001b[0;34m\u001b[0m\u001b[0m\n\u001b[0m\u001b[1;32m   1763\u001b[0m             \u001b[0mxleft\u001b[0m\u001b[0;34m,\u001b[0m \u001b[0mxright\u001b[0m \u001b[0;34m=\u001b[0m \u001b[0mself\u001b[0m\u001b[0;34m.\u001b[0m\u001b[0mget_view_interval\u001b[0m\u001b[0;34m(\u001b[0m\u001b[0;34m)\u001b[0m\u001b[0;34m\u001b[0m\u001b[0;34m\u001b[0m\u001b[0m\n\u001b[1;32m   1764\u001b[0m             \u001b[0;32mif\u001b[0m \u001b[0mxright\u001b[0m \u001b[0;34m>\u001b[0m \u001b[0mxleft\u001b[0m\u001b[0;34m:\u001b[0m\u001b[0;34m\u001b[0m\u001b[0;34m\u001b[0m\u001b[0m\n",
            "\u001b[0;31mTypeError\u001b[0m: object of type 'int' has no len()"
          ]
        },
        {
          "output_type": "display_data",
          "data": {
            "image/png": "[encoded data removed]",
            "text/plain": [
              "<Figure size 432x288 with 1 Axes>"
            ]
          },
          "metadata": {
            "needs_background": "light"
          }
        }
      ]
    },
    {
      "cell_type": "markdown",
      "metadata": {
        "id": "WzFeM6sKCaSC"
      },
      "source": [
        "After SMOTENC, models such as decision tree, XGB, random forest, and SVC still give us an overfitting performance. On the other hand, logistic regression gives a more stable condition; do not have a wide range between training and test model's performances, and thus we tune the logistic regression model."
      ]
    },
    {
      "cell_type": "markdown",
      "metadata": {
        "id": "1W57S_Rh0rok"
      },
      "source": [
        "# **Tuning After Oversampling**"
      ]
    },
    {
      "cell_type": "code",
      "metadata": {
        "colab": {
          "base_uri": "https://localhost:8080/"
        },
        "id": "_mBZvI7T0p9o",
        "outputId": "69c8f437-b983-4d2d-f9dc-5c189fb3a3ef"
      },
      "source": [
        "from sklearn.model_selection import GridSearchCV\n",
        "weights = np.linspace(0.05, 0.95, 21)\n",
        "\n",
        "param_grid = {\n",
        "    'log_reg__penalty':['l1', 'l2', 'none'],\n",
        "    'log_reg__fit_intercept':[True, False],\n",
        "    'log_reg__C':[0.01, 0.1, 1.0],\n",
        "    'log_reg__class_weight':[{0: x, 1: 1.0-x} for x in weights]\n",
        "}\n",
        "\n",
        "grid_search = GridSearchCV(estimator=log_reg_pipeline, param_grid=param_grid, cv=5, n_jobs=-1, scoring='f1')\n",
        "grid_search.fit(X_train_smotenc, y_train_smotenc)"
      ],
      "execution_count": null,
      "outputs": [
        {
          "output_type": "stream",
          "name": "stderr",
          "text": [
            "/usr/local/lib/python3.7/dist-packages/sklearn/model_selection/_validation.py:372: FitFailedWarning: \n",
            "630 fits failed out of a total of 1890.\n",
            "The score on these train-test partitions for these parameters will be set to nan.\n",
            "If these failures are not expected, you can try to debug them by setting error_score='raise'.\n",
            "\n",
            "Below are more details about the failures:\n",
            "--------------------------------------------------------------------------------\n",
            "630 fits failed with the following error:\n",
            "Traceback (most recent call last):\n",
            "  File \"/usr/local/lib/python3.7/dist-packages/sklearn/model_selection/_validation.py\", line 681, in _fit_and_score\n",
            "    estimator.fit(X_train, y_train, **fit_params)\n",
            "  File \"/usr/local/lib/python3.7/dist-packages/sklearn/pipeline.py\", line 394, in fit\n",
            "    self._final_estimator.fit(Xt, y, **fit_params_last_step)\n",
            "  File \"/usr/local/lib/python3.7/dist-packages/sklearn/linear_model/_logistic.py\", line 1461, in fit\n",
            "    solver = _check_solver(self.solver, self.penalty, self.dual)\n",
            "  File \"/usr/local/lib/python3.7/dist-packages/sklearn/linear_model/_logistic.py\", line 449, in _check_solver\n",
            "    % (solver, penalty)\n",
            "ValueError: Solver lbfgs supports only 'l2' or 'none' penalties, got l1 penalty.\n",
            "\n",
            "  warnings.warn(some_fits_failed_message, FitFailedWarning)\n",
            "/usr/local/lib/python3.7/dist-packages/sklearn/model_selection/_search.py:972: UserWarning: One or more of the test scores are non-finite: [       nan 0.61847818 0.62442429        nan 0.61931663 0.62444249\n",
            "        nan 0.62690983 0.63462178        nan 0.62882594 0.63460921\n",
            "        nan 0.64257967 0.65184464        nan 0.6442069  0.65185136\n",
            "        nan 0.65330109 0.65957827        nan 0.65405875 0.65956405\n",
            "        nan 0.66086774 0.66742974        nan 0.66117847 0.66751015\n",
            "        nan 0.66698543 0.67253467        nan 0.66698536 0.67255797\n",
            "        nan 0.6741038  0.67670206        nan 0.67379615 0.67667768\n",
            "        nan 0.67390182 0.67339633        nan 0.67331418 0.67337034\n",
            "        nan 0.66244005 0.66324388        nan 0.66262829 0.66323453\n",
            "        nan 0.64205124 0.6432408         nan 0.64354375 0.64322113\n",
            "        nan 0.61314964 0.61614257        nan 0.61485797 0.61614257\n",
            "        nan 0.57577541 0.58157471        nan 0.57790847 0.58154913\n",
            "        nan 0.54315651 0.54974527        nan 0.54482209 0.54983241\n",
            "        nan 0.47518346 0.49172601        nan 0.47962945 0.49175845\n",
            "        nan 0.38977348 0.41343292        nan 0.39418168 0.41347013\n",
            "        nan 0.33620916 0.35926574        nan 0.33522152 0.35926574\n",
            "        nan 0.24840139 0.29444669        nan 0.24074756 0.29444669\n",
            "        nan 0.16845215 0.21176618        nan 0.16292011 0.21176618\n",
            "        nan 0.10351602 0.15923018        nan 0.10322248 0.15923018\n",
            "        nan 0.04786995 0.12996481        nan 0.04102084 0.12996481\n",
            "        nan 0.         0.08635784        nan 0.         0.08635784\n",
            "        nan 0.62215188 0.62442429        nan 0.6227063  0.62444249\n",
            "        nan 0.63262939 0.63462178        nan 0.63290266 0.63460921\n",
            "        nan 0.6505286  0.65184464        nan 0.65072906 0.65185136\n",
            "        nan 0.65817532 0.65957827        nan 0.65819624 0.65956405\n",
            "        nan 0.6658772  0.66742974        nan 0.66584797 0.66751015\n",
            "        nan 0.67203453 0.67253467        nan 0.67190944 0.67255797\n",
            "        nan 0.67717605 0.67670206        nan 0.67710711 0.67667768\n",
            "        nan 0.67379546 0.67339633        nan 0.67368881 0.67337034\n",
            "        nan 0.66434471 0.66324388        nan 0.66397364 0.66323453\n",
            "        nan 0.64366558 0.6432408         nan 0.64348742 0.64322113\n",
            "        nan 0.61555225 0.61614257        nan 0.61560021 0.61614257\n",
            "        nan 0.58082944 0.58157471        nan 0.58061825 0.58154913\n",
            "        nan 0.54848867 0.54974527        nan 0.54861801 0.54983241\n",
            "        nan 0.49037064 0.49172601        nan 0.49030932 0.49175845\n",
            "        nan 0.41141896 0.41343292        nan 0.4112051  0.41347013\n",
            "        nan 0.35679736 0.35926574        nan 0.35638352 0.35926574\n",
            "        nan 0.28778232 0.29444669        nan 0.28695852 0.29444669\n",
            "        nan 0.20660739 0.21176618        nan 0.20602817 0.21176618\n",
            "        nan 0.15092453 0.15923018        nan 0.15013056 0.15923018\n",
            "        nan 0.11722024 0.12996481        nan 0.11462495 0.12996481\n",
            "        nan 0.06107185 0.08635784        nan 0.05731787 0.08635784\n",
            "        nan 0.62418321 0.62442429        nan 0.62420015 0.62444249\n",
            "        nan 0.63433702 0.63462178        nan 0.63434329 0.63460921\n",
            "        nan 0.6518577  0.65184464        nan 0.6518577  0.65185136\n",
            "        nan 0.65950342 0.65957827        nan 0.65950342 0.65956405\n",
            "        nan 0.66701935 0.66742974        nan 0.66703391 0.66751015\n",
            "        nan 0.67266511 0.67253467        nan 0.67268108 0.67255797\n",
            "        nan 0.67680466 0.67670206        nan 0.67680413 0.67667768\n",
            "        nan 0.6734726  0.67339633        nan 0.67346413 0.67337034\n",
            "        nan 0.66339497 0.66324388        nan 0.66343243 0.66323453\n",
            "        nan 0.64319828 0.6432408         nan 0.64322814 0.64322113\n",
            "        nan 0.61578216 0.61614257        nan 0.61601292 0.61614257\n",
            "        nan 0.58152349 0.58157471        nan 0.58159161 0.58154913\n",
            "        nan 0.54960383 0.54974527        nan 0.54974446 0.54983241\n",
            "        nan 0.49139744 0.49172601        nan 0.49174686 0.49175845\n",
            "        nan 0.41311223 0.41343292        nan 0.41322103 0.41347013\n",
            "        nan 0.35887239 0.35926574        nan 0.35887239 0.35926574\n",
            "        nan 0.2923703  0.29444669        nan 0.29235561 0.29444669\n",
            "        nan 0.21133257 0.21176618        nan 0.21078631 0.21176618\n",
            "        nan 0.15820756 0.15923018        nan 0.15820756 0.15923018\n",
            "        nan 0.12867468 0.12996481        nan 0.12867468 0.12996481\n",
            "        nan 0.08390366 0.08635784        nan 0.08356243 0.08635784]\n",
            "  category=UserWarning,\n"
          ]
        },
        {
          "output_type": "execute_result",
          "data": {
            "text/plain": [
              "GridSearchCV(cv=5,\n",
              "             estimator=Pipeline(steps=[('col_transformer',\n",
              "                                        ColumnTransformer(transformers=[('enc',\n",
              "                                                                         OneHotEncoder(),\n",
              "                                                                         ['department',\n",
              "                                                                          'education',\n",
              "                                                                          'rating_range',\n",
              "                                                                          'age_bin']),\n",
              "                                                                        ('scal',\n",
              "                                                                         StandardScaler(),\n",
              "                                                                         ['no_of_trainings',\n",
              "                                                                          'avg_training_score']),\n",
              "                                                                        ('skip',\n",
              "                                                                         DoNothingTransformer(),\n",
              "                                                                         ['awards_won?'])])),\n",
              "                                       ('log_reg',\n",
              "                                        LogisticRegression(max_iter=3000))]),\n",
              "             n_jobs=-1,\n",
              "             par...\n",
              "                                                   {0: 0.5900000000000001,\n",
              "                                                    1: 0.4099999999999999},\n",
              "                                                   {0: 0.635, 1: 0.365},\n",
              "                                                   {0: 0.68,\n",
              "                                                    1: 0.31999999999999995},\n",
              "                                                   {0: 0.725, 1: 0.275},\n",
              "                                                   {0: 0.77,\n",
              "                                                    1: 0.22999999999999998},\n",
              "                                                   {0: 0.8150000000000001,\n",
              "                                                    1: 0.18499999999999994},\n",
              "                                                   {0: 0.86, 1: 0.14},\n",
              "                                                   {0: 0.905,\n",
              "                                                    1: 0.09499999999999997},\n",
              "                                                   {0: 0.95,\n",
              "                                                    1: 0.050000000000000044}],\n",
              "                         'log_reg__fit_intercept': [True, False],\n",
              "                         'log_reg__penalty': ['l1', 'l2', 'none']},\n",
              "             scoring='f1')"
            ]
          },
          "metadata": {},
          "execution_count": 17
        }
      ]
    },
    {
      "cell_type": "code",
      "metadata": {
        "id": "rt0ovuFG1Fa7",
        "colab": {
          "base_uri": "https://localhost:8080/"
        },
        "outputId": "26c7537d-f15d-429a-d27b-17d9124959d9"
      },
      "source": [
        "#retrain the best tuned model\n",
        "log_reg_smotenc_best = grid_search.best_estimator_\n",
        "log_reg_smotenc_best.fit(X_train_smotenc, y_train_smotenc)"
      ],
      "execution_count": null,
      "outputs": [
        {
          "output_type": "execute_result",
          "data": {
            "text/plain": [
              "Pipeline(steps=[('col_transformer',\n",
              "                 ColumnTransformer(transformers=[('enc', OneHotEncoder(),\n",
              "                                                  ['department', 'education',\n",
              "                                                   'rating_range', 'age_bin']),\n",
              "                                                 ('scal', StandardScaler(),\n",
              "                                                  ['no_of_trainings',\n",
              "                                                   'avg_training_score']),\n",
              "                                                 ('skip',\n",
              "                                                  DoNothingTransformer(),\n",
              "                                                  ['awards_won?'])])),\n",
              "                ('log_reg',\n",
              "                 LogisticRegression(C=0.1,\n",
              "                                    class_weight={0: 0.32,\n",
              "                                                  1: 0.6799999999999999},\n",
              "                                    max_iter=3000))])"
            ]
          },
          "metadata": {},
          "execution_count": 18
        }
      ]
    },
    {
      "cell_type": "code",
      "metadata": {
        "colab": {
          "base_uri": "https://localhost:8080/"
        },
        "id": "x8mEXnj8zQ7B",
        "outputId": "1a15e76b-9715-47b7-a6d0-fd3be7bafde8"
      },
      "source": [
        "#evaluate after tuning\n",
        "\n",
        "y_train_pred = log_reg_smotenc_best.predict(X_train_smotenc)\n",
        "print('Training')\n",
        "print('Accuracy: ' + str(accuracy_score(y_train_smotenc, y_train_pred)))\n",
        "print('Precision: ' + str(precision_score(y_train_smotenc, y_train_pred)))\n",
        "print('Recall: ' + str(recall_score(y_train_smotenc, y_train_pred)))\n",
        "print('F1-score: ' + str(f1_score(y_train_smotenc, y_train_pred)))\n",
        "print('---------')\n",
        "y_test_pred = log_reg_smotenc_best.predict(X_test)\n",
        "print('Test')\n",
        "print('Accuracy: ' + str(accuracy_score(y_test, y_test_pred)))\n",
        "print('Precision: ' + str(precision_score(y_test, y_test_pred)))\n",
        "print('Recall: ' + str(recall_score(y_test, y_test_pred)))\n",
        "print('F1-score: ' + str(f1_score(y_test, y_test_pred)))"
      ],
      "execution_count": null,
      "outputs": [
        {
          "output_type": "stream",
          "name": "stdout",
          "text": [
            "Training\n",
            "Accuracy: 0.6321519092533344\n",
            "Precision: 0.5549352300723198\n",
            "Recall: 0.8704228863473464\n",
            "F1-score: 0.6777641620460805\n",
            "---------\n",
            "Test\n",
            "Accuracy: 0.47755883962780515\n",
            "Precision: 0.12074695363190378\n",
            "Recall: 0.816916488222698\n",
            "F1-score: 0.2103956983317248\n"
          ]
        }
      ]
    },
    {
      "cell_type": "code",
      "metadata": {
        "colab": {
          "base_uri": "https://localhost:8080/",
          "height": 351
        },
        "id": "0X5zqswT1Hwd",
        "outputId": "53487b7d-b8b7-4fd3-f1f4-fb5b0b18d766"
      },
      "source": [
        "from sklearn.metrics import plot_confusion_matrix\n",
        "\n",
        "plot_confusion_matrix(log_reg_smotenc_best, X_test, y_test)"
      ],
      "execution_count": null,
      "outputs": [
        {
          "output_type": "stream",
          "name": "stderr",
          "text": [
            "/usr/local/lib/python3.7/dist-packages/sklearn/utils/deprecation.py:87: FutureWarning: Function plot_confusion_matrix is deprecated; Function `plot_confusion_matrix` is deprecated in 1.0 and will be removed in 1.2. Use one of the class methods: ConfusionMatrixDisplay.from_predictions or ConfusionMatrixDisplay.from_estimator.\n",
            "  warnings.warn(msg, category=FutureWarning)\n"
          ]
        },
        {
          "output_type": "execute_result",
          "data": {
            "text/plain": [
              "<sklearn.metrics._plot.confusion_matrix.ConfusionMatrixDisplay at 0x7feb70d3f990>"
            ]
          },
          "metadata": {},
          "execution_count": 41
        },
        {
          "output_type": "display_data",
          "data": {
            "image/png": "[encoded data removed]",
            "text/plain": [
              "<Figure size 432x288 with 2 Axes>"
            ]
          },
          "metadata": {
            "needs_background": "light"
          }
        }
      ]
    },
    {
      "cell_type": "markdown",
      "metadata": {
        "id": "Hwv3eLKkJWg_"
      },
      "source": [
        "From the figure above, we get values for the model's prediction compared to the real value. For a further model performance evalution, we would like to look at the company's probable loss's cost."
      ]
    },
    {
      "cell_type": "markdown",
      "metadata": {
        "id": "lIn2wLGgFBGL"
      },
      "source": [
        "According to https://www.businessnewsdaily.com/8101-asking-for-a-raise-tips.html, typically a promotion in a company has a 3% rate, but it's acceptable to request a raise in the 10% to 20% range, so in this case we will use 20% rate. We can say that the company will lose a certain amount to pay an employee without a significant raise in the company's performance considering that the employee does not deserve to be promoted."
      ]
    },
    {
      "cell_type": "markdown",
      "metadata": {
        "id": "uViy4_CcI7ZI"
      },
      "source": [
        "On the other hand, if an employee is not to be promoted in a certain amount of time considering their performance, according to https://smallbusiness.chron.com/employees-motivated-promotions-20173.html, 29% of the employees will look for other companies to move. Thus, if we mis-predict an employee 'not-promoted' although they actually has to be promoted, we might lose a 29% valuable asset to the company that might increase the company's performance"
      ]
    },
    {
      "cell_type": "code",
      "metadata": {
        "id": "rTm0gx0hYcX-"
      },
      "source": [
        "df_prediction = pd.DataFrame(\n",
        "    np.concatenate(\n",
        "        [X_test, y_test.values.reshape(-1,1), y_test_pred.reshape(-1,1)\n",
        "        ], axis=1)).rename(columns={0:'department',\n",
        "                                   1:'education',\n",
        "                                   2:'previous_year_rating',\n",
        "                                   3:'region',\n",
        "                                   4:'no_of_trainings',\n",
        "                                   5:'avg_training_score',\n",
        "                                   6:'awards_won',\n",
        "                                   7:'is_promoted_actual',\n",
        "                                   8:'is_promoted_prediction'})"
      ],
      "execution_count": null,
      "outputs": []
    },
    {
      "cell_type": "code",
      "metadata": {
        "id": "Q7E8lg-sYcbf"
      },
      "source": [
        "df_prediction['correct_prediction'] = df_prediction['is_promoted_actual'] == df_prediction['is_promoted_prediction']"
      ],
      "execution_count": null,
      "outputs": []
    },
    {
      "cell_type": "code",
      "metadata": {
        "colab": {
          "base_uri": "https://localhost:8080/",
          "height": 583
        },
        "id": "iWZQ5Sw9YsbA",
        "outputId": "1225ed7f-6975-43a0-d6d5-a4014ce40b56"
      },
      "source": [
        "df_prediction"
      ],
      "execution_count": null,
      "outputs": [
        {
          "output_type": "execute_result",
          "data": {
            "text/html": [
              "<div>\n",
              "<style scoped>\n",
              "    .dataframe tbody tr th:only-of-type {\n",
              "        vertical-align: middle;\n",
              "    }\n",
              "\n",
              "    .dataframe tbody tr th {\n",
              "        vertical-align: top;\n",
              "    }\n",
              "\n",
              "    .dataframe thead th {\n",
              "        text-align: right;\n",
              "    }\n",
              "</style>\n",
              "<table border=\"1\" class=\"dataframe\">\n",
              "  <thead>\n",
              "    <tr style=\"text-align: right;\">\n",
              "      <th></th>\n",
              "      <th>department</th>\n",
              "      <th>education</th>\n",
              "      <th>previous_year_rating</th>\n",
              "      <th>region</th>\n",
              "      <th>no_of_trainings</th>\n",
              "      <th>avg_training_score</th>\n",
              "      <th>awards_won</th>\n",
              "      <th>is_promoted_actual</th>\n",
              "      <th>is_promoted_prediction</th>\n",
              "      <th>correct_prediction</th>\n",
              "    </tr>\n",
              "  </thead>\n",
              "  <tbody>\n",
              "    <tr>\n",
              "      <th>0</th>\n",
              "      <td>Non Technology</td>\n",
              "      <td>Bachelor's</td>\n",
              "      <td>Average</td>\n",
              "      <td>32-34</td>\n",
              "      <td>1</td>\n",
              "      <td>58</td>\n",
              "      <td>1</td>\n",
              "      <td>1</td>\n",
              "      <td>1</td>\n",
              "      <td>True</td>\n",
              "    </tr>\n",
              "    <tr>\n",
              "      <th>1</th>\n",
              "      <td>Non Technology</td>\n",
              "      <td>Bachelor's</td>\n",
              "      <td>Above Average</td>\n",
              "      <td>32-34</td>\n",
              "      <td>1</td>\n",
              "      <td>49</td>\n",
              "      <td>0</td>\n",
              "      <td>0</td>\n",
              "      <td>1</td>\n",
              "      <td>False</td>\n",
              "    </tr>\n",
              "    <tr>\n",
              "      <th>2</th>\n",
              "      <td>Technology</td>\n",
              "      <td>Bachelor's</td>\n",
              "      <td>Above Average</td>\n",
              "      <td>29-31</td>\n",
              "      <td>1</td>\n",
              "      <td>77</td>\n",
              "      <td>0</td>\n",
              "      <td>1</td>\n",
              "      <td>1</td>\n",
              "      <td>True</td>\n",
              "    </tr>\n",
              "    <tr>\n",
              "      <th>3</th>\n",
              "      <td>Non Technology</td>\n",
              "      <td>Bachelor's</td>\n",
              "      <td>Average</td>\n",
              "      <td>41-43</td>\n",
              "      <td>1</td>\n",
              "      <td>54</td>\n",
              "      <td>0</td>\n",
              "      <td>0</td>\n",
              "      <td>0</td>\n",
              "      <td>True</td>\n",
              "    </tr>\n",
              "    <tr>\n",
              "      <th>4</th>\n",
              "      <td>Technology</td>\n",
              "      <td>Bachelor's</td>\n",
              "      <td>Above Average</td>\n",
              "      <td>32-34</td>\n",
              "      <td>1</td>\n",
              "      <td>76</td>\n",
              "      <td>0</td>\n",
              "      <td>0</td>\n",
              "      <td>1</td>\n",
              "      <td>False</td>\n",
              "    </tr>\n",
              "    <tr>\n",
              "      <th>...</th>\n",
              "      <td>...</td>\n",
              "      <td>...</td>\n",
              "      <td>...</td>\n",
              "      <td>...</td>\n",
              "      <td>...</td>\n",
              "      <td>...</td>\n",
              "      <td>...</td>\n",
              "      <td>...</td>\n",
              "      <td>...</td>\n",
              "      <td>...</td>\n",
              "    </tr>\n",
              "    <tr>\n",
              "      <th>10957</th>\n",
              "      <td>Non Technology</td>\n",
              "      <td>Bachelor's</td>\n",
              "      <td>Above Average</td>\n",
              "      <td>32-34</td>\n",
              "      <td>1</td>\n",
              "      <td>50</td>\n",
              "      <td>1</td>\n",
              "      <td>0</td>\n",
              "      <td>1</td>\n",
              "      <td>False</td>\n",
              "    </tr>\n",
              "    <tr>\n",
              "      <th>10958</th>\n",
              "      <td>Non Technology</td>\n",
              "      <td>Bachelor's</td>\n",
              "      <td>Average</td>\n",
              "      <td>29-31</td>\n",
              "      <td>1</td>\n",
              "      <td>50</td>\n",
              "      <td>0</td>\n",
              "      <td>0</td>\n",
              "      <td>0</td>\n",
              "      <td>True</td>\n",
              "    </tr>\n",
              "    <tr>\n",
              "      <th>10959</th>\n",
              "      <td>Non Technology</td>\n",
              "      <td>Bachelor's</td>\n",
              "      <td>Above Average</td>\n",
              "      <td>35-37</td>\n",
              "      <td>1</td>\n",
              "      <td>54</td>\n",
              "      <td>0</td>\n",
              "      <td>0</td>\n",
              "      <td>1</td>\n",
              "      <td>False</td>\n",
              "    </tr>\n",
              "    <tr>\n",
              "      <th>10960</th>\n",
              "      <td>Non Technology</td>\n",
              "      <td>Bachelor's</td>\n",
              "      <td>Above Average</td>\n",
              "      <td>29-31</td>\n",
              "      <td>3</td>\n",
              "      <td>61</td>\n",
              "      <td>0</td>\n",
              "      <td>0</td>\n",
              "      <td>0</td>\n",
              "      <td>True</td>\n",
              "    </tr>\n",
              "    <tr>\n",
              "      <th>10961</th>\n",
              "      <td>Non Technology</td>\n",
              "      <td>Bachelor's</td>\n",
              "      <td>Below Average</td>\n",
              "      <td>29-31</td>\n",
              "      <td>2</td>\n",
              "      <td>52</td>\n",
              "      <td>0</td>\n",
              "      <td>0</td>\n",
              "      <td>0</td>\n",
              "      <td>True</td>\n",
              "    </tr>\n",
              "  </tbody>\n",
              "</table>\n",
              "<p>10962 rows × 10 columns</p>\n",
              "</div>"
            ],
            "text/plain": [
              "           department   education  ... is_promoted_prediction correct_prediction\n",
              "0      Non Technology  Bachelor's  ...                      1               True\n",
              "1      Non Technology  Bachelor's  ...                      1              False\n",
              "2          Technology  Bachelor's  ...                      1               True\n",
              "3      Non Technology  Bachelor's  ...                      0               True\n",
              "4          Technology  Bachelor's  ...                      1              False\n",
              "...               ...         ...  ...                    ...                ...\n",
              "10957  Non Technology  Bachelor's  ...                      1              False\n",
              "10958  Non Technology  Bachelor's  ...                      0               True\n",
              "10959  Non Technology  Bachelor's  ...                      1              False\n",
              "10960  Non Technology  Bachelor's  ...                      0               True\n",
              "10961  Non Technology  Bachelor's  ...                      0               True\n",
              "\n",
              "[10962 rows x 10 columns]"
            ]
          },
          "metadata": {},
          "execution_count": 44
        }
      ]
    },
    {
      "cell_type": "code",
      "metadata": {
        "colab": {
          "base_uri": "https://localhost:8080/"
        },
        "id": "LwSfwIOFYcg2",
        "outputId": "74431547-7b57-430b-9faf-8aeb8b8b841a"
      },
      "source": [
        "df_prediction[(df_prediction['is_promoted_prediction'] == 1)&\n",
        "             (df_prediction['correct_prediction'] == False)]['education'].value_counts()"
      ],
      "execution_count": null,
      "outputs": [
        {
          "output_type": "execute_result",
          "data": {
            "text/plain": [
              "Bachelor's          3825\n",
              "Master's & above    1612\n",
              "not_defined           63\n",
              "Below Secondary       56\n",
              "Name: education, dtype: int64"
            ]
          },
          "metadata": {},
          "execution_count": 45
        }
      ]
    },
    {
      "cell_type": "markdown",
      "metadata": {
        "id": "Ek0NpbCNRKzH"
      },
      "source": [
        "Above is false positive from the test dataset in education feature, and the values of each categories in it"
      ]
    },
    {
      "cell_type": "code",
      "metadata": {
        "colab": {
          "base_uri": "https://localhost:8080/"
        },
        "id": "vx1-YY5gYcjU",
        "outputId": "328c4c84-ab70-4649-f506-6eceb9fd9c5d"
      },
      "source": [
        "df_prediction[(df_prediction['is_promoted_prediction'] == 0)&\n",
        "             (df_prediction['correct_prediction'] == False)]['education'].value_counts()"
      ],
      "execution_count": null,
      "outputs": [
        {
          "output_type": "execute_result",
          "data": {
            "text/plain": [
              "Bachelor's          107\n",
              "Master's & above     44\n",
              "not_defined          14\n",
              "Below Secondary       6\n",
              "Name: education, dtype: int64"
            ]
          },
          "metadata": {},
          "execution_count": 46
        }
      ]
    },
    {
      "cell_type": "markdown",
      "metadata": {
        "id": "7staDdbXRd5N"
      },
      "source": [
        "Above is false negative from the test dataset in education feature, and the values of each categories in it"
      ]
    },
    {
      "cell_type": "markdown",
      "metadata": {
        "id": "0VIlp-of-PN8"
      },
      "source": [
        "From the falsely predicted datas that this model predicted in the dataset, we would like to create a cost loss scenario that would happen to this company that this model would help this company to an automation of company's employees promotion.\n",
        "\n",
        "\n",
        "According to https://mint.intuit.com/blog/salary/what-is-a-good-salary/, this is an average salary for US Employee by Education:\n",
        "- bachelor: 64,896 dollar (annually)\n",
        "- master: 77,844 dollar (annually)\n",
        "- not_defined (we use High school diploma): 38,792 dollar (annually)\n",
        "- below secondary: 30,784 dollar (annually)\n",
        "\n",
        "\n",
        "- salary increases: 20%\n",
        "- prediction of employees who resign: 29%\n",
        "\n",
        "\n",
        "So here are the calculations we have made:\n",
        "\n",
        "**False Positive**\n",
        "- bachelor: 3825 x 0.2 x 64,896 = 49,645,440\n",
        "- master: 1612 x 0.2 x 77,844 = 25,096,905.6\n",
        "- not_defined: 63 x 0.2 x 38,732 = 488,023.2\n",
        "- below secondary: 56 x 0.2 x 30,784 = 344,780.8\n",
        "- total: 75,575,149.6 dollar\n",
        "\n",
        "**False Negative**\n",
        "- bachelor: 107 x 0.29 x 64,896 = 2,013,722.88\n",
        "- master: 44 x 0.29 x 77,844 = 993,289.44\n",
        "- not_defined: 14 x 0.29 x 38,732 = 157,251.92\n",
        "- below secondary: 6 x 0.29 x 30,784 = 53,564.16\n",
        "- total: 3,217,828.4 dollar"
      ]
    },
    {
      "cell_type": "code",
      "metadata": {
        "colab": {
          "base_uri": "https://localhost:8080/",
          "height": 143
        },
        "id": "zVslVSjSu7B7",
        "outputId": "1b6aa298-4d1e-455f-c9c4-fb42afcbd8f4"
      },
      "source": [
        "pred_proba = log_reg_smotenc_best.predict_proba(X_train_smotenc)[:,1].tolist()\n",
        "pred_proba_df = pd.DataFrame({\n",
        "    'pred_proba': pred_proba\n",
        "})\n",
        "percentage_df = pred_proba_df['pred_proba'].apply(lambda x: '70-100%' if x>=0.7 else '40-69%' if x<=0.69 and x>=0.4 else '0-39%').value_counts().reset_index().rename(columns={'index':'pred_proba_percentage','pred_proba':'num_of_emp'}).sort_values(by='pred_proba_percentage', ascending=False)\n",
        "percentage_df['percentage'] = percentage_df['num_of_emp'].apply(lambda x: '{:.2f} %'.format(x/pred_proba_df.shape[0]*100))\n",
        "percentage_df['probable_condition'] = percentage_df['pred_proba_percentage'].apply(lambda x: 'HR Interview' if x=='70-100%' else 'Asessment' if x=='40-69%' else 'Candidate')\n",
        "percentage_df"
      ],
      "execution_count": null,
      "outputs": [
        {
          "output_type": "execute_result",
          "data": {
            "text/html": [
              "<div>\n",
              "<style scoped>\n",
              "    .dataframe tbody tr th:only-of-type {\n",
              "        vertical-align: middle;\n",
              "    }\n",
              "\n",
              "    .dataframe tbody tr th {\n",
              "        vertical-align: top;\n",
              "    }\n",
              "\n",
              "    .dataframe thead th {\n",
              "        text-align: right;\n",
              "    }\n",
              "</style>\n",
              "<table border=\"1\" class=\"dataframe\">\n",
              "  <thead>\n",
              "    <tr style=\"text-align: right;\">\n",
              "      <th></th>\n",
              "      <th>pred_proba_percentage</th>\n",
              "      <th>num_of_emp</th>\n",
              "      <th>percentage</th>\n",
              "      <th>probable_condition</th>\n",
              "    </tr>\n",
              "  </thead>\n",
              "  <tbody>\n",
              "    <tr>\n",
              "      <th>1</th>\n",
              "      <td>70-100%</td>\n",
              "      <td>25406</td>\n",
              "      <td>35.19 %</td>\n",
              "      <td>HR Interview</td>\n",
              "    </tr>\n",
              "    <tr>\n",
              "      <th>0</th>\n",
              "      <td>40-69%</td>\n",
              "      <td>31477</td>\n",
              "      <td>43.60 %</td>\n",
              "      <td>Asessment</td>\n",
              "    </tr>\n",
              "    <tr>\n",
              "      <th>2</th>\n",
              "      <td>0-39%</td>\n",
              "      <td>15318</td>\n",
              "      <td>21.22 %</td>\n",
              "      <td>Candidate</td>\n",
              "    </tr>\n",
              "  </tbody>\n",
              "</table>\n",
              "</div>"
            ],
            "text/plain": [
              "  pred_proba_percentage  num_of_emp percentage probable_condition\n",
              "1               70-100%       25406    35.19 %       HR Interview\n",
              "0                40-69%       31477    43.60 %          Asessment\n",
              "2                 0-39%       15318    21.22 %          Candidate"
            ]
          },
          "metadata": {},
          "execution_count": 21
        }
      ]
    },
    {
      "cell_type": "markdown",
      "metadata": {
        "id": "6pZUaD_41yMo"
      },
      "source": [
        "From the dataframe above we can manage to reach an information that there are numbers of employee that have certain probability numbers to be promoted. This information can be used to ease the HR Department job for promotion determination. For starters, it costs about  0.93 dollars to have a test for a candidate according to https://www.testgorilla.com/pricing/, thus with 25406 employees that have above seventy percent probability to be promoted, we can save cost around 23627.58 dollars because they can go straight to interview with HR. Along with other numbers, the 31477 employees that have 40-69% probability can have an asessment, that according to the site an assesment per employee costs about 121.6 dollars, managing to safe company's funds about 3.829.701 dollars. And lastly, we can focus on the rest (0-39% probability to be promoted) to be grouped as a candidate to be assesed and look up their features that align with the coefficient to be not promoted, and re-evaluate them for next period for promotion or cut-off from the company."
      ]
    },
    {
      "cell_type": "code",
      "metadata": {
        "colab": {
          "base_uri": "https://localhost:8080/"
        },
        "id": "mEcoDvGpHzWd",
        "outputId": "2d8617b5-86c1-4580-a828-8bf42f08de1b"
      },
      "source": [
        "# get feature columns & coefficients\n",
        "\n",
        "onehot_cols_feature = log_reg_smotenc_best.named_steps.col_transformer.named_transformers_.enc.get_feature_names().tolist()\n",
        "feature_cols = onehot_cols_feature + num_cols + donothing_col\n",
        "coef = log_reg_smotenc_best.named_steps.log_reg.coef_.reshape(-1).tolist()"
      ],
      "execution_count": null,
      "outputs": [
        {
          "output_type": "stream",
          "name": "stderr",
          "text": [
            "/usr/local/lib/python3.7/dist-packages/sklearn/utils/deprecation.py:87: FutureWarning: Function get_feature_names is deprecated; get_feature_names is deprecated in 1.0 and will be removed in 1.2. Please use get_feature_names_out instead.\n",
            "  warnings.warn(msg, category=FutureWarning)\n"
          ]
        }
      ]
    },
    {
      "cell_type": "code",
      "metadata": {
        "colab": {
          "base_uri": "https://localhost:8080/",
          "height": 623
        },
        "id": "R-a4x6_E0i9W",
        "outputId": "d8d59c8f-b9c4-4196-d9d0-3f027b4702ff"
      },
      "source": [
        "# get feature importance\n",
        "df_feature_importance = pd.DataFrame({\n",
        "    'name': feature_cols,\n",
        "    'coef': coef\n",
        "})\n",
        "\n",
        "plt.figure(figsize=(12,10))\n",
        "sns.barplot(x='coef', y='name', data=df_feature_importance.sort_values(by='coef', ascending=False))"
      ],
      "execution_count": null,
      "outputs": [
        {
          "output_type": "execute_result",
          "data": {
            "text/plain": [
              "<matplotlib.axes._subplots.AxesSubplot at 0x7feb71674350>"
            ]
          },
          "metadata": {},
          "execution_count": 49
        },
        {
          "output_type": "display_data",
          "data": {
            "image/png": "[encoded data removed]",
            "text/plain": [
              "<Figure size 864x720 with 1 Axes>"
            ]
          },
          "metadata": {
            "needs_background": "light"
          }
        }
      ]
    },
    {
      "cell_type": "markdown",
      "metadata": {
        "id": "nn0GztDbxedP"
      },
      "source": [
        "From the figure above we can see all the contributing factors to the model's work derived from the coefficient. The feature awards won has the largest contributing factor whether an employee is to be promoted or not, followed by whether the employee has above average and average training score.  For the highest coefficient age range to be promoted is in the range of 26-28, a productive phase of an employee. But, the opposite is, feature with the lowest coefficient to be promoted is if an employee is 56-58 years old, followed by below average and 53-55 years old."
      ]
    },
    {
      "cell_type": "markdown",
      "metadata": {
        "id": "B7ntlWtuSw4J"
      },
      "source": [
        "From the features above we can manage also the employees with features with high coefficient to be promoted, and the low coefficient not to be promoted. "
      ]
    },
    {
      "cell_type": "markdown",
      "metadata": {
        "id": "iUcLmqgzJ5Za"
      },
      "source": [
        "# **Result**\n",
        "\n",
        "After having a thorough look of this project, we would like to conclude that this project is an eye-opener to the industry life condition. There are many  imbalances between the promoted and not promoted in a company, preferably to the not promoted, and also the prediction model can be evaluated by a probable cost loss for the company, and determined to be used. \n",
        "\n",
        "The model coefficients however, gives a positive insight for the HR to predict whether an employee is to be promoted or not, and to give a promotion more wisely.\n",
        "\n",
        "This model's coefficient to their classification has a high alignment to us author's domain knowledges. Perhaps when determining a promotion candidate, the HR Department can further use this model's consideration, considering it's recall performance. Further works such as deep learning can also boost this prediction project performance, can also speed up automation of promotion determination in this company.\n",
        "\n",
        "For further business use, we also include a scenario containing employees data that have a high probability chance to be promoted in this data, giving HR as the business user to evaluate the data, and take action such as giving the high probability employees to be promoted to go straight to HR interview, managing the company safe some few bucks of their funds.\n",
        "\n",
        "Also, to evaluate the employees with low probability to be promoted, we can use this data to re-evaluate them in next period whether to keep them or cut them off\n",
        "\n",
        "A more thorough feature engineering can also be done to enhance the model's performance. Current features such as region is impactful to the model but also not clear enough whether the region has another feature to explain their impact to the model.\n"
      ]
    }
  ]
}